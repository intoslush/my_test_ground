{
 "cells": [
  {
   "cell_type": "code",
   "execution_count": null,
   "metadata": {},
   "outputs": [],
   "source": [
    "import sys\n",
    "print(\"python 版本检测\",sys.version)"
   ]
  },
  {
   "cell_type": "code",
   "execution_count": null,
   "metadata": {},
   "outputs": [],
   "source": [
    "#gpu检测\n",
    "import torch\n",
    "print(f\"PyTorch version: {torch.__version__}\")\n",
    "!nvidia-smi\n",
    "print(\"torch可使用的GPU数量是\",torch.cuda.device_count())"
   ]
  },
  {
   "cell_type": "code",
   "execution_count": null,
   "metadata": {},
   "outputs": [],
   "source": [
    "# %pip install psutil gputil"
   ]
  },
  {
   "cell_type": "code",
   "execution_count": null,
   "metadata": {},
   "outputs": [],
   "source": [
    "import psutil\n",
    "import GPUtil\n",
    "import ipywidgets as widgets\n",
    "from IPython.display import display\n",
    "import time\n",
    "import threading\n",
    "\n",
    "# 监控线程的终止标志\n",
    "stop_thread = threading.Event()\n",
    "\n",
    "cpu_label = widgets.Label()\n",
    "gpu_label = widgets.Label()\n",
    "\n",
    "def update_metrics():\n",
    "    while not stop_thread.is_set():\n",
    "        # Update CPU usage\n",
    "        cpu_usage = psutil.cpu_percent(interval=1)\n",
    "        cpu_label.value = f\"CPU 使用率: {cpu_usage}%\"\n",
    "        \n",
    "        # Update GPU usage\n",
    "        gpus = GPUtil.getGPUs()\n",
    "        gpu_info = \"\"\n",
    "        for gpu in gpus:\n",
    "            gpu_info += (f\"GPU {gpu.id}: GPU使用率: {gpu.load * 100}%, \"\n",
    "                         f\"显存总量: {gpu.memoryTotal}MB, \"\n",
    "                         f\"已用显存: {gpu.memoryUsed}MB, \"\n",
    "                         f\"可用显存: {gpu.memoryFree}MB\\n\")\n",
    "        gpu_label.value = gpu_info\n",
    "        \n",
    "        # 使用较短的 sleep 间隔来检查终止标志\n",
    "        for _ in range(10):\n",
    "            if stop_thread.is_set():\n",
    "                break\n",
    "            time.sleep(0.1)\n",
    "\n",
    "# 启动监控线程\n",
    "thread = threading.Thread(target=update_metrics)\n",
    "thread.start()\n",
    "display(cpu_label)\n",
    "display(gpu_label)\n",
    "stop_button = widgets.Button(description=\"停止监控\")\n",
    "display(stop_button)\n",
    "def stop_monitoring(b):\n",
    "    stop_thread.set()\n",
    "    thread.join()  # 等待线程结束\n",
    "    print(\"监控已停止\")\n",
    "\n",
    "stop_button.on_click(stop_monitoring)"
   ]
  },
  {
   "cell_type": "code",
   "execution_count": null,
   "metadata": {},
   "outputs": [],
   "source": []
  }
 ],
 "metadata": {
  "kernelspec": {
   "display_name": "pyt",
   "language": "python",
   "name": "python3"
  },
  "language_info": {
   "codemirror_mode": {
    "name": "ipython",
    "version": 3
   },
   "file_extension": ".py",
   "mimetype": "text/x-python",
   "name": "python",
   "nbconvert_exporter": "python",
   "pygments_lexer": "ipython3",
   "version": "3.8.19"
  }
 },
 "nbformat": 4,
 "nbformat_minor": 2
}
