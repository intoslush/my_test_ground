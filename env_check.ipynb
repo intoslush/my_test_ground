{
 "cells": [
  {
   "cell_type": "code",
   "execution_count": 1,
   "metadata": {},
   "outputs": [
    {
     "name": "stdout",
     "output_type": "stream",
     "text": [
      "python 版本检测 3.10.11 (main, May 16 2023, 00:28:57) [GCC 11.2.0]\n"
     ]
    }
   ],
   "source": [
    "import sys\n",
    "print(\"python 版本检测\",sys.version)"
   ]
  },
  {
   "cell_type": "code",
   "execution_count": 2,
   "metadata": {},
   "outputs": [
    {
     "name": "stdout",
     "output_type": "stream",
     "text": [
      "PyTorch version: 2.0.0+cu117\n",
      "Fri Jun 14 18:42:50 2024       \n",
      "+-----------------------------------------------------------------------------+\n",
      "| NVIDIA-SMI 525.105.17   Driver Version: 525.105.17   CUDA Version: 12.0     |\n",
      "|-------------------------------+----------------------+----------------------+\n",
      "| GPU  Name        Persistence-M| Bus-Id        Disp.A | Volatile Uncorr. ECC |\n",
      "| Fan  Temp  Perf  Pwr:Usage/Cap|         Memory-Usage | GPU-Util  Compute M. |\n",
      "|                               |                      |               MIG M. |\n",
      "|===============================+======================+======================|\n",
      "|   0  Tesla V100-SXM2...  On   | 00000000:00:09.0 Off |                    0 |\n",
      "| N/A   35C    P0    23W / 300W |      0MiB / 32768MiB |      0%      Default |\n",
      "|                               |                      |                  N/A |\n",
      "+-------------------------------+----------------------+----------------------+\n",
      "                                                                               \n",
      "+-----------------------------------------------------------------------------+\n",
      "| Processes:                                                                  |\n",
      "|  GPU   GI   CI        PID   Type   Process name                  GPU Memory |\n",
      "|        ID   ID                                                   Usage      |\n",
      "|=============================================================================|\n",
      "|  No running processes found                                                 |\n",
      "+-----------------------------------------------------------------------------+\n",
      "torch可使用的GPU数量是 1\n"
     ]
    }
   ],
   "source": [
    "#gpu检测\n",
    "import torch\n",
    "print(f\"PyTorch version: {torch.__version__}\")\n",
    "!nvidia-smi\n",
    "print(\"torch可使用的GPU数量是\",torch.cuda.device_count())"
   ]
  },
  {
   "cell_type": "code",
   "execution_count": 3,
   "metadata": {},
   "outputs": [],
   "source": [
    "# %pip install psutil gputil ipywidgets IPython"
   ]
  },
  {
   "cell_type": "code",
   "execution_count": 4,
   "metadata": {},
   "outputs": [
    {
     "data": {
      "application/vnd.jupyter.widget-view+json": {
       "model_id": "8ab8761b36704f02956074425a796003",
       "version_major": 2,
       "version_minor": 0
      },
      "text/plain": [
       "Label(value='')"
      ]
     },
     "metadata": {},
     "output_type": "display_data"
    },
    {
     "data": {
      "application/vnd.jupyter.widget-view+json": {
       "model_id": "01afa48f6b2c4565bbc9818e643f7401",
       "version_major": 2,
       "version_minor": 0
      },
      "text/plain": [
       "Label(value='')"
      ]
     },
     "metadata": {},
     "output_type": "display_data"
    },
    {
     "data": {
      "application/vnd.jupyter.widget-view+json": {
       "model_id": "34bcfbae1ac347dda42d64476147c0e8",
       "version_major": 2,
       "version_minor": 0
      },
      "text/plain": [
       "Label(value='')"
      ]
     },
     "metadata": {},
     "output_type": "display_data"
    },
    {
     "data": {
      "application/vnd.jupyter.widget-view+json": {
       "model_id": "265616a6d7a549f68d54cb72006c1531",
       "version_major": 2,
       "version_minor": 0
      },
      "text/plain": [
       "Label(value='')"
      ]
     },
     "metadata": {},
     "output_type": "display_data"
    },
    {
     "data": {
      "application/vnd.jupyter.widget-view+json": {
       "model_id": "04671c8bedbd43f4953d87622093c3f3",
       "version_major": 2,
       "version_minor": 0
      },
      "text/plain": [
       "Button(description='停止监控', style=ButtonStyle())"
      ]
     },
     "metadata": {},
     "output_type": "display_data"
    }
   ],
   "source": [
    "import psutil\n",
    "import GPUtil\n",
    "import ipywidgets as widgets\n",
    "from IPython.display import display\n",
    "import time\n",
    "import threading\n",
    "\n",
    "# 监控线程的终止标志\n",
    "stop_thread = threading.Event()\n",
    "\n",
    "cpu_label = widgets.Label()\n",
    "gpu_label = widgets.Label()\n",
    "net_label = widgets.Label()\n",
    "disk_label = widgets.Label()\n",
    "\n",
    "def update_metrics():\n",
    "    while not stop_thread.is_set():\n",
    "        # Update CPU usage\n",
    "        cpu_usage = psutil.cpu_percent(interval=1)\n",
    "        cpu_label.value = f\"CPU 使用率: {cpu_usage}%\"\n",
    "\n",
    "        # Update GPU usage\n",
    "        gpus = GPUtil.getGPUs()\n",
    "        gpu_info = \"\"\n",
    "        for gpu in gpus:\n",
    "            gpu_info += (f\"GPU {gpu.id}: GPU使用率: {gpu.load * 100}%, \"\n",
    "                         f\"显存总量: {gpu.memoryTotal}MB, \"\n",
    "                         f\"已用显存: {gpu.memoryUsed}MB, \"\n",
    "                         f\"可用显存: {gpu.memoryFree}MB\\n\")\n",
    "        gpu_label.value = gpu_info\n",
    "\n",
    "        # Update memory usage\n",
    "        memory = psutil.virtual_memory()\n",
    "        memory_total = memory.total / (1024 * 1024 * 1024)  # Convert to GB\n",
    "        memory_used = memory.used / (1024 * 1024 * 1024)  # Convert to GB\n",
    "        memory_label = f\"内存: {memory_used:.2f}GB / {memory_total:.2f}GB\"\n",
    "        cpu_label.value += f\"\\n{memory_label}\"\n",
    "\n",
    "        # Update disk usage\n",
    "        disk_usage = psutil.disk_usage('/')\n",
    "        disk_label.value = (f\"磁盘使用率: {disk_usage.percent}% \"\n",
    "                            f\"({disk_usage.used / 1024 / 1024 / 1024:.2f} GB 使用中 / \"\n",
    "                            f\"{disk_usage.total / 1024 / 1024 / 1024:.2f} GB 总共)\")\n",
    "\n",
    "        # Update network usage\n",
    "        net_io = psutil.net_io_counters()\n",
    "        net_sent_speed = net_io.bytes_sent - getattr(update_metrics, 'last_net_sent', 0)\n",
    "        net_recv_speed = net_io.bytes_recv - getattr(update_metrics, 'last_net_recv', 0)\n",
    "        update_metrics.last_net_sent = net_io.bytes_sent\n",
    "        update_metrics.last_net_recv = net_io.bytes_recv\n",
    "        net_label.value = f\"网络上传速度: {net_sent_speed / 1024 / 1024:.2f} MB/s\\n网络下载速度: {net_recv_speed / 1024 / 1024:.2f} MB/s\"\n",
    "\n",
    "        # 使用较短的 sleep 间隔来检查终止标志\n",
    "        for _ in range(10):\n",
    "            if stop_thread.is_set():\n",
    "                break\n",
    "            time.sleep(0.1)\n",
    "\n",
    "# 启动监控线程\n",
    "thread = threading.Thread(target=update_metrics)\n",
    "thread.start()\n",
    "\n",
    "# 显示标签\n",
    "display(cpu_label)\n",
    "display(gpu_label)\n",
    "display(net_label)\n",
    "display(disk_label)\n",
    "\n",
    "# 添加停止按钮\n",
    "stop_button = widgets.Button(description=\"停止监控\")\n",
    "display(stop_button)\n",
    "\n",
    "# 停止按钮的回调函数\n",
    "def stop_monitoring(b):\n",
    "    stop_thread.set()\n",
    "    thread.join()  # 等待线程结束\n",
    "    print(\"监控已停止\")\n",
    "\n",
    "stop_button.on_click(stop_monitoring)\n"
   ]
  },
  {
   "cell_type": "code",
   "execution_count": 5,
   "metadata": {},
   "outputs": [
    {
     "name": "stdout",
     "output_type": "stream",
     "text": [
      "[i 0614 18:42:51.266263 68 lock.py:85] Create lock file:/root/.cache/jittor/jt1.3.8/g++9.4.0/py3.10.11/Linux-5.4.0-16xb5/IntelRXeonRPlax40/jittor.lock\n",
      "[i 0614 18:42:51.275610 68 compiler.py:956] Jittor(1.3.8.5) src: /root/miniconda3/envs/pyt/lib/python3.10/site-packages/jittor\n",
      "[i 0614 18:42:51.277783 68 compiler.py:957] g++ at /usr/bin/g++(9.4.0)\n",
      "[i 0614 18:42:51.277849 68 compiler.py:958] cache_path: /root/.cache/jittor/jt1.3.8/g++9.4.0/py3.10.11/Linux-5.4.0-16xb5/IntelRXeonRPlax40/default\n",
      "[i 0614 18:42:51.288662 68 __init__.py:411] Found /usr/local/cuda/bin/nvcc(11.7.99) at /usr/local/cuda/bin/nvcc.\n",
      "[i 0614 18:42:51.294902 68 __init__.py:411] Found addr2line(2.34) at /usr/bin/addr2line.\n",
      "[i 0614 18:42:51.461312 68 compiler.py:1011] cuda key:cu11.7.99_sm_70\n",
      "[i 0614 18:42:51.483594 68 compiler.py:34] Create cache dir: /root/.cache/jittor/jt1.3.8/g++9.4.0/py3.10.11/Linux-5.4.0-16xb5/IntelRXeonRPlax40/default/cu11.7.99_sm_70\n",
      "[i 0614 18:42:51.483940 68 compiler.py:34] Create cache dir: /root/.cache/jittor/jt1.3.8/g++9.4.0/py3.10.11/Linux-5.4.0-16xb5/IntelRXeonRPlax40/default/cu11.7.99_sm_70/jit\n",
      "[i 0614 18:42:51.484036 68 compiler.py:34] Create cache dir: /root/.cache/jittor/jt1.3.8/g++9.4.0/py3.10.11/Linux-5.4.0-16xb5/IntelRXeonRPlax40/default/cu11.7.99_sm_70/obj_files\n",
      "[i 0614 18:42:51.484115 68 compiler.py:34] Create cache dir: /root/.cache/jittor/jt1.3.8/g++9.4.0/py3.10.11/Linux-5.4.0-16xb5/IntelRXeonRPlax40/default/cu11.7.99_sm_70/gen\n",
      "[i 0614 18:42:51.484204 68 compiler.py:34] Create cache dir: /root/.cache/jittor/jt1.3.8/g++9.4.0/py3.10.11/Linux-5.4.0-16xb5/IntelRXeonRPlax40/default/cu11.7.99_sm_70/tmp\n",
      "[i 0614 18:42:51.484282 68 compiler.py:34] Create cache dir: /root/.cache/jittor/jt1.3.8/g++9.4.0/py3.10.11/Linux-5.4.0-16xb5/IntelRXeonRPlax40/default/cu11.7.99_sm_70/checkpoints\n"
     ]
    },
    {
     "name": "stderr",
     "output_type": "stream",
     "text": [
      "\u001b[38;5;2m[i 0614 18:42:58.442553 72 log.cc:351] Load log_sync: 1\u001b[m\n",
      "\u001b[38;5;2m[i 0614 18:43:14.523068 72 __init__.py:227] Total mem: 38.42GB, using 12 procs for compiling.\u001b[m\n"
     ]
    },
    {
     "name": "stdout",
     "output_type": "stream",
     "text": [
      "Compiling jittor_core(150/151) used: 37.073s eta: 0.247ss\r"
     ]
    },
    {
     "name": "stderr",
     "output_type": "stream",
     "text": [
      "\u001b[38;5;2m[i 0614 18:43:58.821949 72 log.cc:351] Load log_sync: 1\u001b[m\n",
      "\u001b[38;5;2m[i 0614 18:43:58.823031 72 jit_compiler.cc:28] Load cc_path: /usr/bin/g++\u001b[m\n",
      "\u001b[38;5;2m[i 0614 18:44:00.613209 72 init.cc:62] Found cuda archs: [70,]\u001b[m\n"
     ]
    },
    {
     "name": "stdout",
     "output_type": "stream",
     "text": [
      "Compiling jittor_core(151/151) used: 43.873s eta: 0.000s\n"
     ]
    },
    {
     "name": "stderr",
     "output_type": "stream",
     "text": [
      "\u001b[38;5;2m[i 0614 18:44:00.622056 72 compiler.py:34] Create cache dir: /root/.cache/jittor/cutt\u001b[m\n",
      "\u001b[38;5;2m[i 0614 18:44:00.637917 72 compile_extern.py:339] Downloading cutt...\u001b[m\n"
     ]
    },
    {
     "name": "stdout",
     "output_type": "stream",
     "text": [
      "Downloading https://codeload.github.com/Jittor/cutt/zip/v1.2 to /root/.cache/jittor/cutt/cutt-1.2.zip\n"
     ]
    },
    {
     "name": "stderr",
     "output_type": "stream",
     "text": [
      "296kB [00:00, 852kB/s]\n",
      "\u001b[38;5;2m[i 0614 18:44:01.005234 72 compile_extern.py:352] installing cutt...\u001b[m\n"
     ]
    },
    {
     "name": "stdout",
     "output_type": "stream",
     "text": [
      "Compiling libcutt(8/9) used: 5.708s eta: 0.714s\r"
     ]
    },
    {
     "name": "stderr",
     "output_type": "stream",
     "text": [
      "\u001b[38;5;2m[i 0614 18:44:10.673121 72 compiler.py:34] Create cache dir: /root/.cache/jittor/jt1.3.8/g++9.4.0/py3.10.11/Linux-5.4.0-16xb5/IntelRXeonRPlax40/default/cu11.7.99_sm_70/custom_ops\u001b[m\n"
     ]
    },
    {
     "name": "stdout",
     "output_type": "stream",
     "text": [
      "Compiling libcutt(9/9) used: 9.573s eta: 0.000s\n"
     ]
    },
    {
     "name": "stderr",
     "output_type": "stream",
     "text": [
      "\u001b[38;5;2m[i 0614 18:44:12.468481 72 compiler.py:34] Create cache dir: /root/.cache/jittor/mkl\u001b[m\n",
      "\u001b[38;5;2m[i 0614 18:44:12.469500 72 compile_extern.py:73] Downloading mkl...\u001b[m\n"
     ]
    },
    {
     "name": "stdout",
     "output_type": "stream",
     "text": [
      "Downloading https://cg.cs.tsinghua.edu.cn/jittor/assets/dnnl_lnx_2.2.0_cpu_gomp.tgz to /root/.cache/jittor/mkl/dnnl_lnx_2.2.0_cpu_gomp.tgz\n"
     ]
    },
    {
     "name": "stderr",
     "output_type": "stream",
     "text": [
      "10.5MB [00:02, 3.74MB/s]                            \n"
     ]
    },
    {
     "name": "stdout",
     "output_type": "stream",
     "text": [
      "Use time: 16.28 ms per iteration.\n",
      "Example passed on CPU.\n",
      "Compiling gen_ops_mkl_conv_backward_x_mkl_conv_mkl_matmul_mk___hashda7b59(6/7) used: 2.824s eta: 0.471s\r"
     ]
    },
    {
     "name": "stderr",
     "output_type": "stream",
     "text": [
      "\u001b[38;5;2m[i 0614 18:44:23.727832 72 compiler.py:34] Create cache dir: /root/.cache/jittor/jt1.3.8/g++9.4.0/py3.10.11/Linux-5.4.0-16xb5/IntelRXeonRPlax40/default/cu11.7.99_sm_70/cuda\u001b[m\n"
     ]
    },
    {
     "name": "stdout",
     "output_type": "stream",
     "text": [
      "Compiling gen_ops_mkl_conv_backward_x_mkl_conv_mkl_matmul_mk___hashda7b59(7/7) used: 3.045s eta: 0.000s\n",
      "Compiling libcuda_extern(3/3) used: 2.060s eta: 0.000s\n",
      "Compiling gen_ops_cub_where_cub_argsort_cub_cumsum_cub_test____hashc58881(6/6) used: 3.143s eta: 0.000s\n",
      "Compiling gen_ops_cublas_acc_matmul_cublas_test_cublas_matmu___hash72b90f(8/8) used: 2.985s eta: 0.000s\n",
      "Compiling gen_ops_cudnn_conv_cudnn_conv_backward_w_cudnn_rnn___hash519151(16/16) used: 5.914s eta: 0.000s\n"
     ]
    },
    {
     "name": "stderr",
     "output_type": "stream",
     "text": [
      "\u001b[38;5;2m[i 0614 18:44:42.830102 72 cuda_flags.cc:49] CUDA enabled.\u001b[m\n"
     ]
    },
    {
     "name": "stdout",
     "output_type": "stream",
     "text": [
      "[10,2,]\n"
     ]
    },
    {
     "data": {
      "text/plain": [
       "LinearModel(\n",
       "    linear: Linear(10, 2, float32[2,], None)\n",
       ")"
      ]
     },
     "execution_count": 5,
     "metadata": {},
     "output_type": "execute_result"
    }
   ],
   "source": [
    "import jittor as jt\n",
    "from jittor import nn\n",
    "\n",
    "class LinearModel(nn.Module):\n",
    "    def __init__(self):\n",
    "        self.linear = nn.Linear(10, 2)\n",
    "    def execute(self, x):\n",
    "        x = self.linear(x)\n",
    "        return x\n",
    "net = LinearModel().cuda()\n",
    "x = jt.random((10, 10))\n",
    "out = net(x)\n",
    "print(out.shape)\n",
    "net\n"
   ]
  },
  {
   "cell_type": "code",
   "execution_count": 6,
   "metadata": {},
   "outputs": [],
   "source": [
    "net = LinearModel().cuda(0)\n",
    "jt.flags.use_cuda = 1"
   ]
  },
  {
   "cell_type": "code",
   "execution_count": 7,
   "metadata": {},
   "outputs": [
    {
     "data": {
      "text/plain": [
       "LinearModel(\n",
       "    linear: Linear(10, 2, float32[2,], None)\n",
       ")"
      ]
     },
     "execution_count": 7,
     "metadata": {},
     "output_type": "execute_result"
    }
   ],
   "source": [
    "net.cuda(device='gpu')"
   ]
  },
  {
   "cell_type": "code",
   "execution_count": null,
   "metadata": {},
   "outputs": [],
   "source": []
  }
 ],
 "metadata": {
  "kernelspec": {
   "display_name": "pyt",
   "language": "python",
   "name": "python3"
  },
  "language_info": {
   "codemirror_mode": {
    "name": "ipython",
    "version": 3
   },
   "file_extension": ".py",
   "mimetype": "text/x-python",
   "name": "python",
   "nbconvert_exporter": "python",
   "pygments_lexer": "ipython3",
   "version": "3.10.11"
  }
 },
 "nbformat": 4,
 "nbformat_minor": 2
}
