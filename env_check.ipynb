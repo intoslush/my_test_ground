{
 "cells": [
  {
   "cell_type": "code",
   "execution_count": null,
   "metadata": {},
   "outputs": [],
   "source": [
    "import sys\n",
    "print(\"python 版本检测\",sys.version)"
   ]
  },
  {
   "cell_type": "code",
   "execution_count": null,
   "metadata": {},
   "outputs": [],
   "source": [
    "#gpu检测\n",
    "import torch\n",
    "print(f\"PyTorch version: {torch.__version__}\")\n",
    "!nvidia-smi\n",
    "print(\"torch可使用的GPU数量是\",torch.cuda.device_count())"
   ]
  },
  {
   "cell_type": "code",
   "execution_count": null,
   "metadata": {},
   "outputs": [],
   "source": [
    "# %pip install psutil gputil ipywidgets IPython"
   ]
  },
  {
   "cell_type": "code",
   "execution_count": 1,
   "metadata": {},
   "outputs": [
    {
     "data": {
      "application/vnd.jupyter.widget-view+json": {
       "model_id": "e49b89cd3eca4c40bbc5f972cbf097e4",
       "version_major": 2,
       "version_minor": 0
      },
      "text/plain": [
       "Label(value='')"
      ]
     },
     "metadata": {},
     "output_type": "display_data"
    },
    {
     "data": {
      "application/vnd.jupyter.widget-view+json": {
       "model_id": "6151ac245b164715bb7dea9d5c2d72bc",
       "version_major": 2,
       "version_minor": 0
      },
      "text/plain": [
       "Label(value='')"
      ]
     },
     "metadata": {},
     "output_type": "display_data"
    },
    {
     "data": {
      "application/vnd.jupyter.widget-view+json": {
       "model_id": "e2e96f6530044953ac6aaac399b65f3e",
       "version_major": 2,
       "version_minor": 0
      },
      "text/plain": [
       "Label(value='')"
      ]
     },
     "metadata": {},
     "output_type": "display_data"
    },
    {
     "data": {
      "application/vnd.jupyter.widget-view+json": {
       "model_id": "7cbfc115f250415a8bb891a0044df3b3",
       "version_major": 2,
       "version_minor": 0
      },
      "text/plain": [
       "Label(value='')"
      ]
     },
     "metadata": {},
     "output_type": "display_data"
    },
    {
     "data": {
      "application/vnd.jupyter.widget-view+json": {
       "model_id": "637665dfea444f4e994bedd883fa362c",
       "version_major": 2,
       "version_minor": 0
      },
      "text/plain": [
       "Button(description='停止监控', style=ButtonStyle())"
      ]
     },
     "metadata": {},
     "output_type": "display_data"
    }
   ],
   "source": [
    "import psutil\n",
    "import GPUtil\n",
    "import ipywidgets as widgets\n",
    "from IPython.display import display\n",
    "import time\n",
    "import threading\n",
    "\n",
    "# 监控线程的终止标志\n",
    "stop_thread = threading.Event()\n",
    "\n",
    "cpu_label = widgets.Label()\n",
    "gpu_label = widgets.Label()\n",
    "net_label = widgets.Label()\n",
    "disk_label = widgets.Label()\n",
    "\n",
    "def update_metrics():\n",
    "    while not stop_thread.is_set():\n",
    "        # Update CPU usage\n",
    "        cpu_usage = psutil.cpu_percent(interval=1)\n",
    "        cpu_label.value = f\"CPU 使用率: {cpu_usage}%\"\n",
    "\n",
    "        # Update GPU usage\n",
    "        gpus = GPUtil.getGPUs()\n",
    "        gpu_info = \"\"\n",
    "        for gpu in gpus:\n",
    "            gpu_info += (f\"GPU {gpu.id}: GPU使用率: {gpu.load * 100}%, \"\n",
    "                         f\"显存总量: {gpu.memoryTotal}MB, \"\n",
    "                         f\"已用显存: {gpu.memoryUsed}MB, \"\n",
    "                         f\"可用显存: {gpu.memoryFree}MB\\n\")\n",
    "        gpu_label.value = gpu_info\n",
    "\n",
    "        # Update memory usage\n",
    "        memory = psutil.virtual_memory()\n",
    "        memory_total = memory.total / (1024 * 1024 * 1024)  # Convert to GB\n",
    "        memory_used = memory.used / (1024 * 1024 * 1024)  # Convert to GB\n",
    "        memory_label = f\"内存: {memory_used:.2f}GB / {memory_total:.2f}GB\"\n",
    "        cpu_label.value += f\"\\n{memory_label}\"\n",
    "\n",
    "        # Update disk usage\n",
    "        disk_usage = psutil.disk_usage('/')\n",
    "        disk_label.value = (f\"磁盘使用率: {disk_usage.percent}% \"\n",
    "                            f\"({disk_usage.used / 1024 / 1024 / 1024:.2f} GB 使用中 / \"\n",
    "                            f\"{disk_usage.total / 1024 / 1024 / 1024:.2f} GB 总共)\")\n",
    "\n",
    "        # Update network usage\n",
    "        net_io = psutil.net_io_counters()\n",
    "        net_sent_speed = net_io.bytes_sent - getattr(update_metrics, 'last_net_sent', 0)\n",
    "        net_recv_speed = net_io.bytes_recv - getattr(update_metrics, 'last_net_recv', 0)\n",
    "        update_metrics.last_net_sent = net_io.bytes_sent\n",
    "        update_metrics.last_net_recv = net_io.bytes_recv\n",
    "        net_label.value = f\"网络上传速度: {net_sent_speed / 1024 / 1024:.2f} MB/s\\n网络下载速度: {net_recv_speed / 1024 / 1024:.2f} MB/s\"\n",
    "\n",
    "        # 使用较短的 sleep 间隔来检查终止标志\n",
    "        for _ in range(10):\n",
    "            if stop_thread.is_set():\n",
    "                break\n",
    "            time.sleep(0.1)\n",
    "\n",
    "# 启动监控线程\n",
    "thread = threading.Thread(target=update_metrics)\n",
    "thread.start()\n",
    "\n",
    "# 显示标签\n",
    "display(cpu_label)\n",
    "display(gpu_label)\n",
    "display(net_label)\n",
    "display(disk_label)\n",
    "\n",
    "# 添加停止按钮\n",
    "stop_button = widgets.Button(description=\"停止监控\")\n",
    "display(stop_button)\n",
    "\n",
    "# 停止按钮的回调函数\n",
    "def stop_monitoring(b):\n",
    "    stop_thread.set()\n",
    "    thread.join()  # 等待线程结束\n",
    "    print(\"监控已停止\")\n",
    "\n",
    "stop_button.on_click(stop_monitoring)\n"
   ]
  },
  {
   "cell_type": "code",
   "execution_count": null,
   "metadata": {},
   "outputs": [],
   "source": [
    "import jittor as jt\n",
    "from jittor import nn\n",
    "\n",
    "class LinearModel(nn.Module):\n",
    "    def __init__(self):\n",
    "        self.linear = nn.Linear(10, 2)\n",
    "    def execute(self, x):\n",
    "        x = self.linear(x)\n",
    "        return x\n",
    "net = LinearModel().cuda()\n",
    "x = jt.random((10, 10))\n",
    "out = net(x)\n",
    "print(out.shape)\n",
    "net\n"
   ]
  },
  {
   "cell_type": "code",
   "execution_count": null,
   "metadata": {},
   "outputs": [],
   "source": [
    "net = LinearModel().cuda(0)\n",
    "jt.flags.use_cuda = 1"
   ]
  },
  {
   "cell_type": "code",
   "execution_count": null,
   "metadata": {},
   "outputs": [],
   "source": [
    "net.cuda(device='gpu')"
   ]
  },
  {
   "cell_type": "code",
   "execution_count": null,
   "metadata": {},
   "outputs": [],
   "source": []
  }
 ],
 "metadata": {
  "kernelspec": {
   "display_name": "pyt",
   "language": "python",
   "name": "python3"
  },
  "language_info": {
   "codemirror_mode": {
    "name": "ipython",
    "version": 3
   },
   "file_extension": ".py",
   "mimetype": "text/x-python",
   "name": "python",
   "nbconvert_exporter": "python",
   "pygments_lexer": "ipython3",
   "version": "3.10.11"
  }
 },
 "nbformat": 4,
 "nbformat_minor": 2
}
