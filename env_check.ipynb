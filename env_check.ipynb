{
 "cells": [
  {
   "cell_type": "code",
   "execution_count": 1,
   "metadata": {},
   "outputs": [
    {
     "name": "stdout",
     "output_type": "stream",
     "text": [
      "python 版本检测 3.10.11 (main, May 16 2023, 00:28:57) [GCC 11.2.0]\n"
     ]
    }
   ],
   "source": [
    "import sys\n",
    "print(\"python 版本检测\",sys.version)"
   ]
  },
  {
   "cell_type": "code",
   "execution_count": 2,
   "metadata": {},
   "outputs": [
    {
     "name": "stdout",
     "output_type": "stream",
     "text": [
      "PyTorch version: 2.0.0+cu117\n",
      "Sun Jun 16 15:41:56 2024       \n",
      "+-----------------------------------------------------------------------------+\n",
      "| NVIDIA-SMI 525.105.17   Driver Version: 525.105.17   CUDA Version: 12.0     |\n",
      "|-------------------------------+----------------------+----------------------+\n",
      "| GPU  Name        Persistence-M| Bus-Id        Disp.A | Volatile Uncorr. ECC |\n",
      "| Fan  Temp  Perf  Pwr:Usage/Cap|         Memory-Usage | GPU-Util  Compute M. |\n",
      "|                               |                      |               MIG M. |\n",
      "|===============================+======================+======================|\n",
      "|   0  Tesla V100-SXM2...  On   | 00000000:00:09.0 Off |                    0 |\n",
      "| N/A   37C    P0    23W / 300W |      0MiB / 32768MiB |      0%      Default |\n",
      "|                               |                      |                  N/A |\n",
      "+-------------------------------+----------------------+----------------------+\n",
      "                                                                               \n",
      "+-----------------------------------------------------------------------------+\n",
      "| Processes:                                                                  |\n",
      "|  GPU   GI   CI        PID   Type   Process name                  GPU Memory |\n",
      "|        ID   ID                                                   Usage      |\n",
      "|=============================================================================|\n",
      "|  No running processes found                                                 |\n",
      "+-----------------------------------------------------------------------------+\n",
      "torch可使用的GPU数量是 1\n"
     ]
    }
   ],
   "source": [
    "#gpu检测\n",
    "import torch\n",
    "print(f\"PyTorch version: {torch.__version__}\")\n",
    "!nvidia-smi\n",
    "print(\"torch可使用的GPU数量是\",torch.cuda.device_count())"
   ]
  },
  {
   "cell_type": "code",
   "execution_count": 3,
   "metadata": {},
   "outputs": [],
   "source": [
    "# %pip install psutil gputil ipywidgets IPython"
   ]
  },
  {
   "cell_type": "code",
   "execution_count": 4,
   "metadata": {},
   "outputs": [
    {
     "data": {
      "application/vnd.jupyter.widget-view+json": {
       "model_id": "92658114e41e4cca937fae3abdc0cd71",
       "version_major": 2,
       "version_minor": 0
      },
      "text/plain": [
       "Label(value='')"
      ]
     },
     "metadata": {},
     "output_type": "display_data"
    },
    {
     "data": {
      "application/vnd.jupyter.widget-view+json": {
       "model_id": "083ab60d614e4ac8b161399a5871de71",
       "version_major": 2,
       "version_minor": 0
      },
      "text/plain": [
       "Label(value='')"
      ]
     },
     "metadata": {},
     "output_type": "display_data"
    },
    {
     "data": {
      "application/vnd.jupyter.widget-view+json": {
       "model_id": "9ee7e6381d4a4963a3cd6af416b1edc1",
       "version_major": 2,
       "version_minor": 0
      },
      "text/plain": [
       "Label(value='')"
      ]
     },
     "metadata": {},
     "output_type": "display_data"
    },
    {
     "data": {
      "application/vnd.jupyter.widget-view+json": {
       "model_id": "1593654be37c46198320b784fd13cef3",
       "version_major": 2,
       "version_minor": 0
      },
      "text/plain": [
       "Label(value='')"
      ]
     },
     "metadata": {},
     "output_type": "display_data"
    },
    {
     "data": {
      "application/vnd.jupyter.widget-view+json": {
       "model_id": "3f81e95626244ad69a3e21e107d5e144",
       "version_major": 2,
       "version_minor": 0
      },
      "text/plain": [
       "Button(description='停止监控', style=ButtonStyle())"
      ]
     },
     "metadata": {},
     "output_type": "display_data"
    }
   ],
   "source": [
    "import psutil\n",
    "import GPUtil\n",
    "import ipywidgets as widgets\n",
    "from IPython.display import display\n",
    "import time\n",
    "import threading\n",
    "\n",
    "# 监控线程的终止标志\n",
    "stop_thread = threading.Event()\n",
    "\n",
    "cpu_label = widgets.Label()\n",
    "gpu_label = widgets.Label()\n",
    "net_label = widgets.Label()\n",
    "disk_label = widgets.Label()\n",
    "\n",
    "def update_metrics():\n",
    "    while not stop_thread.is_set():\n",
    "        # Update CPU usage\n",
    "        cpu_usage = psutil.cpu_percent(interval=1)\n",
    "        cpu_label.value = f\"CPU 使用率: {cpu_usage}%\"\n",
    "\n",
    "        # Update GPU usage\n",
    "        gpus = GPUtil.getGPUs()\n",
    "        gpu_info = \"\"\n",
    "        for gpu in gpus:\n",
    "            gpu_info += (f\"GPU {gpu.id}: GPU使用率: {gpu.load * 100}%, \"\n",
    "                         f\"显存总量: {gpu.memoryTotal}MB, \"\n",
    "                         f\"已用显存: {gpu.memoryUsed}MB, \"\n",
    "                         f\"可用显存: {gpu.memoryFree}MB\\n\")\n",
    "        gpu_label.value = gpu_info\n",
    "\n",
    "        # Update memory usage\n",
    "        memory = psutil.virtual_memory()\n",
    "        memory_total = memory.total / (1024 * 1024 * 1024)  # Convert to GB\n",
    "        memory_used = memory.used / (1024 * 1024 * 1024)  # Convert to GB\n",
    "        memory_label = f\"内存: {memory_used:.2f}GB / {memory_total:.2f}GB\"\n",
    "        cpu_label.value += f\"\\n{memory_label}\"\n",
    "\n",
    "        # Update disk usage\n",
    "        disk_usage = psutil.disk_usage('/')\n",
    "        disk_label.value = (f\"磁盘使用率: {disk_usage.percent}% \"\n",
    "                            f\"({disk_usage.used / 1024 / 1024 / 1024:.2f} GB 使用中 / \"\n",
    "                            f\"{disk_usage.total / 1024 / 1024 / 1024:.2f} GB 总共)\")\n",
    "\n",
    "        # Update network usage\n",
    "        net_io = psutil.net_io_counters()\n",
    "        net_sent_speed = net_io.bytes_sent - getattr(update_metrics, 'last_net_sent', 0)\n",
    "        net_recv_speed = net_io.bytes_recv - getattr(update_metrics, 'last_net_recv', 0)\n",
    "        update_metrics.last_net_sent = net_io.bytes_sent\n",
    "        update_metrics.last_net_recv = net_io.bytes_recv\n",
    "        net_label.value = f\"网络上传速度: {net_sent_speed / 1024 / 1024:.2f} MB/s\\n网络下载速度: {net_recv_speed / 1024 / 1024:.2f} MB/s\"\n",
    "\n",
    "        # 使用较短的 sleep 间隔来检查终止标志\n",
    "        for _ in range(10):\n",
    "            if stop_thread.is_set():\n",
    "                break\n",
    "            time.sleep(0.1)\n",
    "\n",
    "# 启动监控线程\n",
    "thread = threading.Thread(target=update_metrics)\n",
    "thread.start()\n",
    "\n",
    "# 显示标签\n",
    "display(cpu_label)\n",
    "display(gpu_label)\n",
    "display(net_label)\n",
    "display(disk_label)\n",
    "\n",
    "# 添加停止按钮\n",
    "stop_button = widgets.Button(description=\"停止监控\")\n",
    "display(stop_button)\n",
    "\n",
    "# 停止按钮的回调函数\n",
    "def stop_monitoring(b):\n",
    "    stop_thread.set()\n",
    "    thread.join()  # 等待线程结束\n",
    "    print(\"监控已停止\")\n",
    "\n",
    "stop_button.on_click(stop_monitoring)\n"
   ]
  },
  {
   "cell_type": "code",
   "execution_count": 5,
   "metadata": {},
   "outputs": [
    {
     "name": "stderr",
     "output_type": "stream",
     "text": [
      "\u001b[38;5;2m[i 0616 15:41:57.472102 28 log.cc:351] Load log_sync: 1\u001b[m\n",
      "\u001b[38;5;2m[i 0616 15:41:57.611192 28 compiler.py:956] Jittor(1.3.8.5) src: /root/miniconda3/envs/pyt/lib/python3.10/site-packages/jittor\u001b[m\n",
      "\u001b[38;5;2m[i 0616 15:41:57.613720 28 compiler.py:957] g++ at /usr/bin/g++(9.4.0)\u001b[m\n",
      "\u001b[38;5;2m[i 0616 15:41:57.614343 28 compiler.py:958] cache_path: /root/.cache/jittor/jt1.3.8/g++9.4.0/py3.10.11/Linux-5.4.0-16xb5/IntelRXeonRPlax40/default\u001b[m\n",
      "\u001b[38;5;2m[i 0616 15:41:57.617418 28 __init__.py:411] Found /usr/local/cuda/bin/nvcc(11.7.99) at /usr/local/cuda/bin/nvcc.\u001b[m\n",
      "\u001b[38;5;2m[i 0616 15:41:57.620336 28 __init__.py:411] Found addr2line(2.34) at /usr/bin/addr2line.\u001b[m\n",
      "\u001b[38;5;2m[i 0616 15:41:57.758103 28 compiler.py:1011] cuda key:cu11.7.99_sm_70\u001b[m\n",
      "\u001b[38;5;2m[i 0616 15:41:58.098399 28 __init__.py:227] Total mem: 38.42GB, using 12 procs for compiling.\u001b[m\n",
      "\u001b[38;5;2m[i 0616 15:41:58.256787 28 jit_compiler.cc:28] Load cc_path: /usr/bin/g++\u001b[m\n",
      "\u001b[38;5;2m[i 0616 15:41:59.992242 28 init.cc:62] Found cuda archs: [70,]\u001b[m\n",
      "\u001b[38;5;2m[i 0616 15:42:00.937091 28 cuda_flags.cc:49] CUDA enabled.\u001b[m\n"
     ]
    },
    {
     "name": "stdout",
     "output_type": "stream",
     "text": [
      "[10,2,]\n"
     ]
    },
    {
     "data": {
      "text/plain": [
       "LinearModel(\n",
       "    linear: Linear(10, 2, float32[2,], None)\n",
       ")"
      ]
     },
     "execution_count": 5,
     "metadata": {},
     "output_type": "execute_result"
    }
   ],
   "source": [
    "import jittor as jt\n",
    "from jittor import nn\n",
    "\n",
    "class LinearModel(nn.Module):\n",
    "    def __init__(self):\n",
    "        self.linear = nn.Linear(10, 2)\n",
    "    def execute(self, x):\n",
    "        x = self.linear(x)\n",
    "        return x\n",
    "net = LinearModel().cuda()\n",
    "x = jt.random((10, 10))\n",
    "out = net(x)\n",
    "print(out.shape)\n",
    "net\n"
   ]
  },
  {
   "cell_type": "code",
   "execution_count": 6,
   "metadata": {},
   "outputs": [],
   "source": [
    "net = LinearModel().cuda(0)\n",
    "jt.flags.use_cuda = 1"
   ]
  },
  {
   "cell_type": "code",
   "execution_count": 7,
   "metadata": {},
   "outputs": [
    {
     "data": {
      "text/plain": [
       "LinearModel(\n",
       "    linear: Linear(10, 2, float32[2,], None)\n",
       ")"
      ]
     },
     "execution_count": 7,
     "metadata": {},
     "output_type": "execute_result"
    }
   ],
   "source": [
    "net.cuda(device='gpu')"
   ]
  },
  {
   "cell_type": "code",
   "execution_count": null,
   "metadata": {},
   "outputs": [],
   "source": []
  }
 ],
 "metadata": {
  "kernelspec": {
   "display_name": "pyt",
   "language": "python",
   "name": "python3"
  },
  "language_info": {
   "codemirror_mode": {
    "name": "ipython",
    "version": 3
   },
   "file_extension": ".py",
   "mimetype": "text/x-python",
   "name": "python",
   "nbconvert_exporter": "python",
   "pygments_lexer": "ipython3",
   "version": "3.10.11"
  }
 },
 "nbformat": 4,
 "nbformat_minor": 2
}
