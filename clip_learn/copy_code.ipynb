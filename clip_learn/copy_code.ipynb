{
 "cells": [
  {
   "cell_type": "code",
   "execution_count": 1,
   "metadata": {},
   "outputs": [],
   "source": [
    "import torch\n",
    "import os,sys\n",
    "import clip\n",
    "import torch.optim as optim\n",
    "from torch.utils.data import Dataset,DataLoader\n"
   ]
  },
  {
   "cell_type": "code",
   "execution_count": null,
   "metadata": {},
   "outputs": [],
   "source": [
    "def _convert_image_to_rgb(image):\n",
    "    return image.convert(\"RGB\")\n",
    "def _transform(n_px):\n",
    "    return Compose([Resize(n_xp,interpolation=BICUBIC),\n",
    "                    CenterCrop(n_px),\n",
    "                    _convert_image_to_rgb,\n",
    "                    ToTensor(),\n",
    "                    Normalize((0.48145466,0.4578275,0.40821073),(0.26862954,0.26130258,0.27577711))\n",
    "                    ])\n",
    "def get_dataset():\n",
    "    type_dir=\"\"\n",
    "    transform=_transform(224)\n",
    "    m1=MasaikeDataset(type_dir,type_dir,transform)"
   ]
  },
  {
   "cell_type": "code",
   "execution_count": null,
   "metadata": {},
   "outputs": [],
   "source": [
    "moder_name='ViT-L/14'\n",
    "device='cuda'\n",
    "py_model,_=clip.load(moder_name,device=device,jit=False,download_root=\"\")\n",
    "print(py_model)\n",
    "\n",
    "dataset=get_dataset()\n",
    "dataLoader=DataLoader(dataset,batch_size=1,shuffle=True,drop_last=True,collate_fn=collate_fn,num_workers=)\n"
   ]
  }
 ],
 "metadata": {
  "kernelspec": {
   "display_name": "pyt",
   "language": "python",
   "name": "python3"
  },
  "language_info": {
   "codemirror_mode": {
    "name": "ipython",
    "version": 3
   },
   "file_extension": ".py",
   "mimetype": "text/x-python",
   "name": "python",
   "nbconvert_exporter": "python",
   "pygments_lexer": "ipython3",
   "version": "3.10.11"
  }
 },
 "nbformat": 4,
 "nbformat_minor": 2
}
