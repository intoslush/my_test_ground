{
 "cells": [
  {
   "cell_type": "code",
   "execution_count": 1,
   "metadata": {},
   "outputs": [
    {
     "name": "stderr",
     "output_type": "stream",
     "text": [
      "\u001b[38;5;2m[i 0616 17:39:02.531531 40 log.cc:351] Load log_sync: 1\u001b[m\n",
      "\u001b[38;5;2m[i 0616 17:39:02.588374 40 compiler.py:956] Jittor(1.3.8.5) src: /root/miniconda3/envs/pyt/lib/python3.10/site-packages/jittor\u001b[m\n",
      "\u001b[38;5;2m[i 0616 17:39:02.590777 40 compiler.py:957] g++ at /usr/bin/g++(9.4.0)\u001b[m\n",
      "\u001b[38;5;2m[i 0616 17:39:02.591442 40 compiler.py:958] cache_path: /root/.cache/jittor/jt1.3.8/g++9.4.0/py3.10.11/Linux-5.4.0-16xb5/IntelRXeonRPlax40/default\u001b[m\n",
      "\u001b[38;5;2m[i 0616 17:39:02.594396 40 __init__.py:411] Found /usr/local/cuda/bin/nvcc(11.7.99) at /usr/local/cuda/bin/nvcc.\u001b[m\n",
      "\u001b[38;5;2m[i 0616 17:39:02.597084 40 __init__.py:411] Found addr2line(2.34) at /usr/bin/addr2line.\u001b[m\n"
     ]
    },
    {
     "name": "stderr",
     "output_type": "stream",
     "text": [
      "\u001b[38;5;2m[i 0616 17:39:02.685681 40 compiler.py:1011] cuda key:cu11.7.99_sm_70\u001b[m\n",
      "\u001b[38;5;2m[i 0616 17:39:03.025154 40 __init__.py:227] Total mem: 38.42GB, using 12 procs for compiling.\u001b[m\n",
      "\u001b[38;5;2m[i 0616 17:39:03.166347 40 jit_compiler.cc:28] Load cc_path: /usr/bin/g++\u001b[m\n",
      "\u001b[38;5;2m[i 0616 17:39:03.233612 40 init.cc:62] Found cuda archs: [70,]\u001b[m\n",
      "\u001b[38;5;2m[i 0616 17:39:06.086123 40 cuda_flags.cc:49] CUDA enabled.\u001b[m\n"
     ]
    },
    {
     "name": "stdout",
     "output_type": "stream",
     "text": [
      "包导入成功\n"
     ]
    }
   ],
   "source": [
    "import jittor as jt\n",
    "from PIL import Image\n",
    "import jclip as clip\n",
    "import os\n",
    "from tqdm import tqdm\n",
    "import argparse\n",
    "from sklearn.linear_model import LogisticRegression\n",
    "import numpy as np\n",
    "import random\n",
    "# from colorama import Fore, Back, Style, init\n",
    "# init()\n",
    "\n",
    "jt.flags.use_cuda = 1\n",
    "print(\"包导入成功\")\n",
    "parser = argparse.ArgumentParser()\n",
    "parser.add_argument('--split', type=str, default='A')\n",
    "\n",
    "# args = parser.parse_args()\n",
    "args, unknown = parser.parse_known_args()\n",
    "model, preprocess = clip.load(\"ViT-B-32.pkl\")\n",
    "imgs_dir = '../data'"
   ]
  },
  {
   "cell_type": "code",
   "execution_count": 5,
   "metadata": {},
   "outputs": [],
   "source": [
    "\n",
    "# encode这块后面可以强化下\n",
    "def encode_pre_word(c)->str:\n",
    "    \"\"\"更具输入的名字返回一句话\"\"\"\n",
    "    seq = 'a photo of ' + c\n",
    "    return seq\n",
    "\n",
    "def ret_class_name_dic()->dict:\n",
    "    \"\"\"返回数字映射到动物名字的字典\"\"\"\n",
    "    classes = open('../data/classname.txt').read().splitlines()#这是一个包含所有类的列表\n",
    "    class_name_dic={}#这是数字映射到动物名字的字典\n",
    "    for i in classes:\n",
    "        name,idx = i.split(' ')\n",
    "        if idx not in class_name_dic:\n",
    "            class_name_dic[idx]=name\n",
    "    return class_name_dic\n",
    "\n",
    "class_name_dic=ret_class_name_dic()"
   ]
  },
  {
   "cell_type": "code",
   "execution_count": 11,
   "metadata": {},
   "outputs": [],
   "source": [
    "#训练的数据处理\n",
    "def train_data()->list:\n",
    "    \"\"\"返回元素为玩意的列表['TrainSet/Animal/Bee/57.jpg', '1'] 每类四个\"\"\"\n",
    "    train_labels = open('../data/train.txt').read().splitlines()\n",
    "    train_data_dic={}#每类的图片的字典\n",
    "    for i in train_labels:\n",
    "        path,class_name=i.split(' ')\n",
    "        if class_name in train_data_dic:\n",
    "            train_data_dic[class_name].append([path,class_name])\n",
    "        else:\n",
    "            train_data_dic[class_name]=[]\n",
    "    # 训练集的要训练的每类四张的列表\n",
    "    ret_list=[]#用于返回每类四张的列表\n",
    "    for i in train_data_dic:\n",
    "        ret_list+=random.sample(train_data_dic[i],4)\n",
    "    \n",
    "    return ret_list\n",
    "\n",
    "train_data=train_data()\n",
    "\n"
   ]
  },
  {
   "cell_type": "code",
   "execution_count": 12,
   "metadata": {},
   "outputs": [
    {
     "data": {
      "text/plain": [
       "1496"
      ]
     },
     "execution_count": 12,
     "metadata": {},
     "output_type": "execute_result"
    }
   ],
   "source": [
    "len(train_data)"
   ]
  },
  {
   "cell_type": "code",
   "execution_count": 13,
   "metadata": {},
   "outputs": [
    {
     "name": "stderr",
     "output_type": "stream",
     "text": [
      "  0%|          | 4/1496 [00:00<00:43, 33.92it/s]"
     ]
    },
    {
     "name": "stdout",
     "output_type": "stream",
     "text": [
      "text_features的shape为 [1,512,]\n",
      "text_features的shape为 [1,512,]\n",
      "text_features的shape为 [1,512,]\n",
      "text_features的shape为 [1,512,]\n",
      "text_features的shape为 [1,512,]\n"
     ]
    },
    {
     "name": "stderr",
     "output_type": "stream",
     "text": [
      "\n"
     ]
    }
   ],
   "source": [
    "# 把句子和图片进行encoding\n",
    "train_img_features = []\n",
    "train_word_features=[]\n",
    "count=0\n",
    "with jt.no_grad():\n",
    "    class_name_dic=ret_class_name_dic()\n",
    "    for info in tqdm(train_data):\n",
    "\n",
    "        img,indx=info\n",
    "        img = os.path.join(imgs_dir, img)\n",
    "        image = Image.open(img)\n",
    "        image = preprocess(image).unsqueeze(0)\n",
    "        image_features = model.encode_image(image)\n",
    "        # print(\"能成功运行?\",\"image_features的shape是\",image_features.shape)\n",
    "        image_features /= image_features.norm(dim=-1, keepdim=True)\n",
    "        train_img_features.append(image_features)\n",
    "\n",
    "        a_seq=encode_pre_word(class_name_dic[indx])#转为句子\n",
    "        token=clip.tokenize(a_seq)\n",
    "        \n",
    "        text_features=model.encode_text(token)\n",
    "        text_features /= text_features.norm(dim=-1, keepdim=True)\n",
    "        print(\"text_features的shape为\",text_features.shape)\n",
    "        train_word_features.append(text_features)\n",
    "        count+=1\n",
    "        if count==5 :\n",
    "\n",
    "            break\n",
    "\n",
    "train_features = jt.cat(train_img_features).numpy()#(1496, 512)\n",
    "train_labels = jt.cat(train_word_features).numpy()#(1496,)"
   ]
  },
  {
   "cell_type": "code",
   "execution_count": 10,
   "metadata": {},
   "outputs": [
    {
     "name": "stdout",
     "output_type": "stream",
     "text": [
      "(1496, 512)\n"
     ]
    },
    {
     "data": {
      "text/plain": [
       "(1496, 512)"
      ]
     },
     "execution_count": 10,
     "metadata": {},
     "output_type": "execute_result"
    }
   ],
   "source": [
    "print(train_features.shape)\n",
    "print(train_labels.shape)"
   ]
  },
  {
   "cell_type": "code",
   "execution_count": null,
   "metadata": {},
   "outputs": [],
   "source": [
    "#测试数据处理\n",
    "def test_data()->list:\n",
    "    \"\"\"返回元素为玩意的列表['TrainSet/Animal/Bee/57.jpg 1] 共计3000个用于测试\"\"\"\n",
    "    train_labels = open('../data/train.txt').read().splitlines() \n",
    "    return random.sample(train_labels,3000)"
   ]
  }
 ],
 "metadata": {
  "kernelspec": {
   "display_name": "pyt",
   "language": "python",
   "name": "python3"
  },
  "language_info": {
   "codemirror_mode": {
    "name": "ipython",
    "version": 3
   },
   "file_extension": ".py",
   "mimetype": "text/x-python",
   "name": "python",
   "nbconvert_exporter": "python",
   "pygments_lexer": "ipython3",
   "version": "3.10.11"
  }
 },
 "nbformat": 4,
 "nbformat_minor": 2
}
