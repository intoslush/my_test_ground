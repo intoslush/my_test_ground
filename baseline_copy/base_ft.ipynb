{
 "cells": [
  {
   "cell_type": "code",
   "execution_count": 1,
   "metadata": {},
   "outputs": [],
   "source": [
    "# %pip install ftfy regex tqdm\n",
    "# %pip install scikit-learn"
   ]
  },
  {
   "cell_type": "code",
   "execution_count": 2,
   "metadata": {},
   "outputs": [
    {
     "name": "stderr",
     "output_type": "stream",
     "text": [
      "\u001b[38;5;2m[i 0620 18:34:19.315286 36 log.cc:351] Load log_sync: 1\u001b[m\n",
      "\u001b[38;5;2m[i 0620 18:34:19.372051 36 compiler.py:956] Jittor(1.3.8.5) src: /root/miniconda3/envs/pyt/lib/python3.10/site-packages/jittor\u001b[m\n",
      "\u001b[38;5;2m[i 0620 18:34:19.374432 36 compiler.py:957] g++ at /usr/bin/g++(9.4.0)\u001b[m\n",
      "\u001b[38;5;2m[i 0620 18:34:19.375082 36 compiler.py:958] cache_path: /root/.cache/jittor/jt1.3.8/g++9.4.0/py3.10.11/Linux-5.4.0-16xfa/IntelRXeonRPlax40/default\u001b[m\n",
      "\u001b[38;5;2m[i 0620 18:34:19.378082 36 __init__.py:411] Found /usr/local/cuda/bin/nvcc(11.7.99) at /usr/local/cuda/bin/nvcc.\u001b[m\n",
      "\u001b[38;5;2m[i 0620 18:34:19.380745 36 __init__.py:411] Found addr2line(2.34) at /usr/bin/addr2line.\u001b[m\n",
      "\u001b[38;5;2m[i 0620 18:34:19.672355 36 compiler.py:1011] cuda key:cu11.7.99_sm_75\u001b[m\n",
      "\u001b[38;5;2m[i 0620 18:34:20.012740 36 __init__.py:227] Total mem: 30.60GB, using 10 procs for compiling.\u001b[m\n",
      "\u001b[38;5;2m[i 0620 18:34:20.152401 36 jit_compiler.cc:28] Load cc_path: /usr/bin/g++\u001b[m\n",
      "\u001b[38;5;2m[i 0620 18:34:20.423278 36 init.cc:62] Found cuda archs: [75,]\u001b[m\n",
      "\u001b[38;5;2m[i 0620 18:34:23.355717 36 cuda_flags.cc:49] CUDA enabled.\u001b[m\n"
     ]
    },
    {
     "name": "stdout",
     "output_type": "stream",
     "text": [
      "包导入成功\n"
     ]
    }
   ],
   "source": [
    "import jittor as jt\n",
    "from PIL import Image\n",
    "import jclip as clip\n",
    "import os\n",
    "from tqdm import tqdm\n",
    "import argparse\n",
    "from sklearn.linear_model import LogisticRegression\n",
    "import numpy as np\n",
    "import random\n",
    "# from colorama import Fore, Back, Style, init\n",
    "# init()\n",
    "\n",
    "jt.flags.use_cuda = 1\n",
    "print(\"包导入成功\")"
   ]
  },
  {
   "cell_type": "code",
   "execution_count": 3,
   "metadata": {},
   "outputs": [],
   "source": [
    "parser = argparse.ArgumentParser()\n",
    "parser.add_argument('--split', type=str, default='A')\n",
    "\n",
    "# args = parser.parse_args()\n",
    "args, unknown = parser.parse_known_args()\n",
    "model, preprocess = clip.load(\"../data/ViT-B-32.pkl\")\n",
    "classes = open('../data/classname.txt').read().splitlines()#这是一个包含所有类的列表"
   ]
  },
  {
   "cell_type": "markdown",
   "metadata": {},
   "source": [
    "## 类别文本编码,变成一句话,然后别转为向量\n",
    "### 提示词可以尝试优化\n",
    "text_features的shape为[374,512,]"
   ]
  },
  {
   "cell_type": "code",
   "execution_count": 4,
   "metadata": {},
   "outputs": [
    {
     "name": "stdout",
     "output_type": "stream",
     "text": [
      "374 中图片\n",
      "[374,77,]\n",
      "norm前的shape [374,512,]\n",
      "[374,512,]\n",
      "标签处理成功\n"
     ]
    }
   ],
   "source": [
    "# encode这块后面可以强化下\n",
    "text_features=0\n",
    "new_classes = []\n",
    "for c in classes:\n",
    "    c = c.split(' ')[0]\n",
    "    if c.startswith('Animal'):\n",
    "        c = c[7:]\n",
    "    if c.startswith('Thu-dog'):\n",
    "        c = c[8:]\n",
    "    if c.startswith('Caltech-101'):\n",
    "        c = c[12:]\n",
    "    if c.startswith('Food-101'):\n",
    "        c = c[9:]\n",
    "    c = 'a photo of ' + c\n",
    "    new_classes.append(c)\n",
    "print(len(new_classes),\"中图片\")\n",
    "text = clip.tokenize(new_classes)\n",
    "print(text.shape)\n",
    "text_features = model.encode_text(text)\n",
    "print(\"norm前的shape\",text_features.shape)\n",
    "text_features /= text_features.norm(dim=-1, keepdim=True)\n",
    "print(text_features.shape)\n",
    "print(\"标签处理成功\")"
   ]
  },
  {
   "cell_type": "code",
   "execution_count": 5,
   "metadata": {},
   "outputs": [
    {
     "data": {
      "text/plain": [
       "[374,512,]"
      ]
     },
     "execution_count": 5,
     "metadata": {},
     "output_type": "execute_result"
    }
   ],
   "source": [
    "text_features.shape"
   ]
  },
  {
   "cell_type": "markdown",
   "metadata": {},
   "source": [
    "## 图片加载并处理"
   ]
  },
  {
   "cell_type": "code",
   "execution_count": 6,
   "metadata": {},
   "outputs": [
    {
     "name": "stderr",
     "output_type": "stream",
     "text": [
      "\n",
      "Compiling Operators(36/41) used: 4.31s eta: 0.599s 39/41) used: 5.32s eta: 0.273s 41/41) used: 6.33s eta:    0s \n"
     ]
    }
   ],
   "source": [
    "# training data loading\n",
    "imgs_dir = '../data'\n",
    "train_labels = open('../data/train.txt').read().splitlines()\n",
    "train_imgs = [l.split(' ')[0] for l in train_labels]#对应的图片path\n",
    "train_labels = [jt.float32([int(l.split(' ')[1])]) for l in train_labels]#对应的种类序号"
   ]
  },
  {
   "cell_type": "code",
   "execution_count": 7,
   "metadata": {},
   "outputs": [],
   "source": [
    "# 每个类挑四张图，根据train_labels中的label来挑选\n",
    "#挑选每种的前四张,生成两个对应的列表,分别存储path和类别信息\n",
    "cnt = {}\n",
    "new_train_imgs = []\n",
    "new_train_labels = []\n",
    "for i in range(len(train_imgs)):\n",
    "    label = int(train_labels[i].numpy())\n",
    "    if label not in cnt:\n",
    "        cnt[label] = 0\n",
    "    if cnt[label] < 4:\n",
    "        new_train_imgs.append(train_imgs[i])\n",
    "        new_train_labels.append(train_labels[i])\n",
    "        cnt[label] += 1"
   ]
  },
  {
   "cell_type": "code",
   "execution_count": 8,
   "metadata": {},
   "outputs": [
    {
     "data": {
      "text/plain": [
       "1496"
      ]
     },
     "execution_count": 8,
     "metadata": {},
     "output_type": "execute_result"
    }
   ],
   "source": [
    "len(new_train_imgs)"
   ]
  },
  {
   "cell_type": "code",
   "execution_count": 9,
   "metadata": {},
   "outputs": [
    {
     "name": "stdout",
     "output_type": "stream",
     "text": [
      "Training data processing:\n"
     ]
    },
    {
     "name": "stderr",
     "output_type": "stream",
     "text": [
      "  5%|▍         | 70/1496 [00:01<00:37, 37.76it/s]\n"
     ]
    },
    {
     "ename": "RuntimeError",
     "evalue": "\u001b[38;5;1m[f 0620 18:34:40.899498 36 executor.cc:686] \nExecute fused operator(2/41784) failed. \n[JIT Source]: /root/.cache/jittor/jt1.3.8/g++9.4.0/py3.10.11/Linux-5.4.0-16xfa/IntelRXeonRPlax40/default/cu11.7.99_sm_75/jit/__opkey0_broadcast_to__Tx_float32__DIM_7__BCAST_19__opkey1_reindex__Tx_float32__XDIM_4__YD___hash_763ba871e4286cdb_op.cc \n[OP TYPE]: fused_op:( broadcast_to, reindex, binary.multiply, reduce.add,)\n[Input]: float32[768,3,32,32,]visual.conv1.weight, float32[1,3,224,224,], \n[Output]: float32[1,768,7,7,], \n[Async Backtrace]: not found, please set env JT_SYNC=1, trace_py_var=3 \n[Reason]: \u001b[38;5;1m[f 0620 18:34:40.893989 36 helper_cuda.h:128] CUDA error at /root/.cache/jittor/jt1.3.8/g++9.4.0/py3.10.11/Linux-5.4.0-16xfa/IntelRXeonRPlax40/default/cu11.7.99_sm_75/jit/cudnn_conv__Tx_float32__Ty_float32__Tw_float32__XFORMAT_abcd__WFORMAT_oihw__YFORMAT_abcd_____hash_4d5b3e2d24c769d3_op.cc:351  code=4( CUDNN_STATUS_INTERNAL_ERROR ) cudnnFindConvolutionForwardAlgorithmEx( handle_, cudnnIdesc, x->ptr<Tx>(), cudnnFdesc, w->ptr<Tw>(), cudnnConvDesc, cudnnOdesc, y->ptr<Ty>(), num_algos, &perf_count, perf_results, ws, max_ws_size)\u001b[m\u001b[m\n**********\nAsync error was detected. To locate the async backtrace and get better error report, please rerun your code with two enviroment variables set:\n>>> export JT_SYNC=1\n>>> export trace_py_var=3\n",
     "output_type": "error",
     "traceback": [
      "\u001b[0;31m---------------------------------------------------------------------------\u001b[0m",
      "\u001b[0;31mRuntimeError\u001b[0m                              Traceback (most recent call last)",
      "Cell \u001b[0;32mIn[9], line 9\u001b[0m\n\u001b[1;32m      7\u001b[0m image \u001b[38;5;241m=\u001b[39m Image\u001b[38;5;241m.\u001b[39mopen(img)\n\u001b[1;32m      8\u001b[0m image \u001b[38;5;241m=\u001b[39m preprocess(image)\u001b[38;5;241m.\u001b[39munsqueeze(\u001b[38;5;241m0\u001b[39m)\n\u001b[0;32m----> 9\u001b[0m image_features \u001b[38;5;241m=\u001b[39m \u001b[43mmodel\u001b[49m\u001b[38;5;241;43m.\u001b[39;49m\u001b[43mencode_image\u001b[49m\u001b[43m(\u001b[49m\u001b[43mimage\u001b[49m\u001b[43m)\u001b[49m\n\u001b[1;32m     10\u001b[0m \u001b[38;5;66;03m# print(\"能成功运行?\",\"image_features的shape是\",image_features.shape)\u001b[39;00m\n\u001b[1;32m     11\u001b[0m image_features \u001b[38;5;241m/\u001b[39m\u001b[38;5;241m=\u001b[39m image_features\u001b[38;5;241m.\u001b[39mnorm(dim\u001b[38;5;241m=\u001b[39m\u001b[38;5;241m-\u001b[39m\u001b[38;5;241m1\u001b[39m, keepdim\u001b[38;5;241m=\u001b[39m\u001b[38;5;28;01mTrue\u001b[39;00m)\n",
      "File \u001b[0;32m~/my_test_ground/baseline_copy/jclip/model.py:201\u001b[0m, in \u001b[0;36mCLIP.encode_image\u001b[0;34m(self, image)\u001b[0m\n\u001b[1;32m    200\u001b[0m \u001b[38;5;28;01mdef\u001b[39;00m \u001b[38;5;21mencode_image\u001b[39m(\u001b[38;5;28mself\u001b[39m, image):\n\u001b[0;32m--> 201\u001b[0m     \u001b[38;5;28;01mreturn\u001b[39;00m \u001b[38;5;28;43mself\u001b[39;49m\u001b[38;5;241;43m.\u001b[39;49m\u001b[43mvisual\u001b[49m\u001b[43m(\u001b[49m\u001b[43mimage\u001b[49m\u001b[43m)\u001b[49m\n",
      "File \u001b[0;32m~/miniconda3/envs/pyt/lib/python3.10/site-packages/jittor/__init__.py:1172\u001b[0m, in \u001b[0;36mModule.__call__\u001b[0;34m(self, *args, **kw)\u001b[0m\n\u001b[1;32m   1171\u001b[0m \u001b[38;5;28;01mdef\u001b[39;00m \u001b[38;5;21m__call__\u001b[39m(\u001b[38;5;28mself\u001b[39m, \u001b[38;5;241m*\u001b[39margs, \u001b[38;5;241m*\u001b[39m\u001b[38;5;241m*\u001b[39mkw):\n\u001b[0;32m-> 1172\u001b[0m     \u001b[38;5;28;01mreturn\u001b[39;00m \u001b[38;5;28;43mself\u001b[39;49m\u001b[38;5;241;43m.\u001b[39;49m\u001b[43mexecute\u001b[49m\u001b[43m(\u001b[49m\u001b[38;5;241;43m*\u001b[39;49m\u001b[43margs\u001b[49m\u001b[43m,\u001b[49m\u001b[43m \u001b[49m\u001b[38;5;241;43m*\u001b[39;49m\u001b[38;5;241;43m*\u001b[39;49m\u001b[43mkw\u001b[49m\u001b[43m)\u001b[49m\n",
      "File \u001b[0;32m~/my_test_ground/baseline_copy/jclip/model.py:118\u001b[0m, in \u001b[0;36mVisionTransformer.execute\u001b[0;34m(self, x)\u001b[0m\n\u001b[1;32m    115\u001b[0m x \u001b[38;5;241m=\u001b[39m \u001b[38;5;28mself\u001b[39m\u001b[38;5;241m.\u001b[39mln_pre(x)\n\u001b[1;32m    117\u001b[0m x \u001b[38;5;241m=\u001b[39m x\u001b[38;5;241m.\u001b[39mpermute(\u001b[38;5;241m1\u001b[39m, \u001b[38;5;241m0\u001b[39m, \u001b[38;5;241m2\u001b[39m)  \u001b[38;5;66;03m# NLD -> LND\u001b[39;00m\n\u001b[0;32m--> 118\u001b[0m x \u001b[38;5;241m=\u001b[39m \u001b[38;5;28;43mself\u001b[39;49m\u001b[38;5;241;43m.\u001b[39;49m\u001b[43mtransformer\u001b[49m\u001b[43m(\u001b[49m\u001b[43mx\u001b[49m\u001b[43m)\u001b[49m\n\u001b[1;32m    119\u001b[0m x \u001b[38;5;241m=\u001b[39m x\u001b[38;5;241m.\u001b[39mpermute(\u001b[38;5;241m1\u001b[39m, \u001b[38;5;241m0\u001b[39m, \u001b[38;5;241m2\u001b[39m)  \u001b[38;5;66;03m# LND -> NLD\u001b[39;00m\n\u001b[1;32m    121\u001b[0m x \u001b[38;5;241m=\u001b[39m \u001b[38;5;28mself\u001b[39m\u001b[38;5;241m.\u001b[39mln_post(x[:, \u001b[38;5;241m0\u001b[39m, :])\n",
      "File \u001b[0;32m~/miniconda3/envs/pyt/lib/python3.10/site-packages/jittor/__init__.py:1172\u001b[0m, in \u001b[0;36mModule.__call__\u001b[0;34m(self, *args, **kw)\u001b[0m\n\u001b[1;32m   1171\u001b[0m \u001b[38;5;28;01mdef\u001b[39;00m \u001b[38;5;21m__call__\u001b[39m(\u001b[38;5;28mself\u001b[39m, \u001b[38;5;241m*\u001b[39margs, \u001b[38;5;241m*\u001b[39m\u001b[38;5;241m*\u001b[39mkw):\n\u001b[0;32m-> 1172\u001b[0m     \u001b[38;5;28;01mreturn\u001b[39;00m \u001b[38;5;28;43mself\u001b[39;49m\u001b[38;5;241;43m.\u001b[39;49m\u001b[43mexecute\u001b[49m\u001b[43m(\u001b[49m\u001b[38;5;241;43m*\u001b[39;49m\u001b[43margs\u001b[49m\u001b[43m,\u001b[49m\u001b[43m \u001b[49m\u001b[38;5;241;43m*\u001b[39;49m\u001b[38;5;241;43m*\u001b[39;49m\u001b[43mkw\u001b[49m\u001b[43m)\u001b[49m\n",
      "File \u001b[0;32m~/my_test_ground/baseline_copy/jclip/model.py:77\u001b[0m, in \u001b[0;36mTransformer.execute\u001b[0;34m(self, x)\u001b[0m\n\u001b[1;32m     76\u001b[0m \u001b[38;5;28;01mdef\u001b[39;00m \u001b[38;5;21mexecute\u001b[39m(\u001b[38;5;28mself\u001b[39m, x):\n\u001b[0;32m---> 77\u001b[0m     \u001b[38;5;28;01mreturn\u001b[39;00m \u001b[38;5;28;43mself\u001b[39;49m\u001b[38;5;241;43m.\u001b[39;49m\u001b[43mresblocks\u001b[49m\u001b[43m(\u001b[49m\u001b[43mx\u001b[49m\u001b[43m)\u001b[49m\n",
      "File \u001b[0;32m~/miniconda3/envs/pyt/lib/python3.10/site-packages/jittor/__init__.py:1172\u001b[0m, in \u001b[0;36mModule.__call__\u001b[0;34m(self, *args, **kw)\u001b[0m\n\u001b[1;32m   1171\u001b[0m \u001b[38;5;28;01mdef\u001b[39;00m \u001b[38;5;21m__call__\u001b[39m(\u001b[38;5;28mself\u001b[39m, \u001b[38;5;241m*\u001b[39margs, \u001b[38;5;241m*\u001b[39m\u001b[38;5;241m*\u001b[39mkw):\n\u001b[0;32m-> 1172\u001b[0m     \u001b[38;5;28;01mreturn\u001b[39;00m \u001b[38;5;28;43mself\u001b[39;49m\u001b[38;5;241;43m.\u001b[39;49m\u001b[43mexecute\u001b[49m\u001b[43m(\u001b[49m\u001b[38;5;241;43m*\u001b[39;49m\u001b[43margs\u001b[49m\u001b[43m,\u001b[49m\u001b[43m \u001b[49m\u001b[38;5;241;43m*\u001b[39;49m\u001b[38;5;241;43m*\u001b[39;49m\u001b[43mkw\u001b[49m\u001b[43m)\u001b[49m\n",
      "File \u001b[0;32m~/miniconda3/envs/pyt/lib/python3.10/site-packages/jittor/nn.py:2202\u001b[0m, in \u001b[0;36mSequential.execute\u001b[0;34m(self, x)\u001b[0m\n\u001b[1;32m   2200\u001b[0m \u001b[38;5;28;01mdef\u001b[39;00m \u001b[38;5;21mexecute\u001b[39m(\u001b[38;5;28mself\u001b[39m, x):\n\u001b[1;32m   2201\u001b[0m     \u001b[38;5;28;01mfor\u001b[39;00m k, layer \u001b[38;5;129;01min\u001b[39;00m \u001b[38;5;28mself\u001b[39m\u001b[38;5;241m.\u001b[39mlayers\u001b[38;5;241m.\u001b[39mitems():\n\u001b[0;32m-> 2202\u001b[0m         x \u001b[38;5;241m=\u001b[39m \u001b[43mlayer\u001b[49m\u001b[43m(\u001b[49m\u001b[43mx\u001b[49m\u001b[43m)\u001b[49m\n\u001b[1;32m   2203\u001b[0m     \u001b[38;5;28;01mreturn\u001b[39;00m x\n",
      "File \u001b[0;32m~/miniconda3/envs/pyt/lib/python3.10/site-packages/jittor/__init__.py:1172\u001b[0m, in \u001b[0;36mModule.__call__\u001b[0;34m(self, *args, **kw)\u001b[0m\n\u001b[1;32m   1171\u001b[0m \u001b[38;5;28;01mdef\u001b[39;00m \u001b[38;5;21m__call__\u001b[39m(\u001b[38;5;28mself\u001b[39m, \u001b[38;5;241m*\u001b[39margs, \u001b[38;5;241m*\u001b[39m\u001b[38;5;241m*\u001b[39mkw):\n\u001b[0;32m-> 1172\u001b[0m     \u001b[38;5;28;01mreturn\u001b[39;00m \u001b[38;5;28;43mself\u001b[39;49m\u001b[38;5;241;43m.\u001b[39;49m\u001b[43mexecute\u001b[49m\u001b[43m(\u001b[49m\u001b[38;5;241;43m*\u001b[39;49m\u001b[43margs\u001b[49m\u001b[43m,\u001b[49m\u001b[43m \u001b[49m\u001b[38;5;241;43m*\u001b[39;49m\u001b[38;5;241;43m*\u001b[39;49m\u001b[43mkw\u001b[49m\u001b[43m)\u001b[49m\n",
      "File \u001b[0;32m~/my_test_ground/baseline_copy/jclip/model.py:60\u001b[0m, in \u001b[0;36mResidualAttentionBlock.execute\u001b[0;34m(self, x)\u001b[0m\n\u001b[1;32m     59\u001b[0m \u001b[38;5;28;01mdef\u001b[39;00m \u001b[38;5;21mexecute\u001b[39m(\u001b[38;5;28mself\u001b[39m, x):\n\u001b[0;32m---> 60\u001b[0m     x \u001b[38;5;241m=\u001b[39m x \u001b[38;5;241m+\u001b[39m \u001b[38;5;28mself\u001b[39m\u001b[38;5;241m.\u001b[39mattention(\u001b[38;5;28;43mself\u001b[39;49m\u001b[38;5;241;43m.\u001b[39;49m\u001b[43mln_1\u001b[49m\u001b[43m(\u001b[49m\u001b[43mx\u001b[49m\u001b[43m)\u001b[49m)\n\u001b[1;32m     61\u001b[0m     x \u001b[38;5;241m=\u001b[39m x \u001b[38;5;241m+\u001b[39m \u001b[38;5;28mself\u001b[39m\u001b[38;5;241m.\u001b[39mmlp(\u001b[38;5;28mself\u001b[39m\u001b[38;5;241m.\u001b[39mln_2(x))\n\u001b[1;32m     62\u001b[0m     \u001b[38;5;28;01mreturn\u001b[39;00m x\n",
      "File \u001b[0;32m~/miniconda3/envs/pyt/lib/python3.10/site-packages/jittor/__init__.py:1172\u001b[0m, in \u001b[0;36mModule.__call__\u001b[0;34m(self, *args, **kw)\u001b[0m\n\u001b[1;32m   1171\u001b[0m \u001b[38;5;28;01mdef\u001b[39;00m \u001b[38;5;21m__call__\u001b[39m(\u001b[38;5;28mself\u001b[39m, \u001b[38;5;241m*\u001b[39margs, \u001b[38;5;241m*\u001b[39m\u001b[38;5;241m*\u001b[39mkw):\n\u001b[0;32m-> 1172\u001b[0m     \u001b[38;5;28;01mreturn\u001b[39;00m \u001b[38;5;28;43mself\u001b[39;49m\u001b[38;5;241;43m.\u001b[39;49m\u001b[43mexecute\u001b[49m\u001b[43m(\u001b[49m\u001b[38;5;241;43m*\u001b[39;49m\u001b[43margs\u001b[49m\u001b[43m,\u001b[49m\u001b[43m \u001b[49m\u001b[38;5;241;43m*\u001b[39;49m\u001b[38;5;241;43m*\u001b[39;49m\u001b[43mkw\u001b[49m\u001b[43m)\u001b[49m\n",
      "File \u001b[0;32m~/my_test_ground/baseline_copy/jclip/model.py:20\u001b[0m, in \u001b[0;36mLayerNorm.execute\u001b[0;34m(self, x)\u001b[0m\n\u001b[1;32m     19\u001b[0m \u001b[38;5;28;01mdef\u001b[39;00m \u001b[38;5;21mexecute\u001b[39m(\u001b[38;5;28mself\u001b[39m, x):\n\u001b[0;32m---> 20\u001b[0m     ret \u001b[38;5;241m=\u001b[39m \u001b[38;5;28;43msuper\u001b[39;49m\u001b[43m(\u001b[49m\u001b[43m)\u001b[49m\u001b[38;5;241;43m.\u001b[39;49m\u001b[43mexecute\u001b[49m\u001b[43m(\u001b[49m\u001b[43mx\u001b[49m\u001b[43m)\u001b[49m\n\u001b[1;32m     21\u001b[0m     \u001b[38;5;28;01mreturn\u001b[39;00m ret\n",
      "File \u001b[0;32m~/miniconda3/envs/pyt/lib/python3.10/site-packages/jittor/nn.py:727\u001b[0m, in \u001b[0;36mfp32_guard.<locals>.wrapper\u001b[0;34m(*args, **kw)\u001b[0m\n\u001b[1;32m    725\u001b[0m \u001b[38;5;28;01mdef\u001b[39;00m \u001b[38;5;21mwrapper\u001b[39m(\u001b[38;5;241m*\u001b[39margs, \u001b[38;5;241m*\u001b[39m\u001b[38;5;241m*\u001b[39mkw):\n\u001b[1;32m    726\u001b[0m     \u001b[38;5;28;01mif\u001b[39;00m jt\u001b[38;5;241m.\u001b[39mflags\u001b[38;5;241m.\u001b[39mamp_level \u001b[38;5;241m==\u001b[39m \u001b[38;5;241m0\u001b[39m:\n\u001b[0;32m--> 727\u001b[0m         \u001b[38;5;28;01mreturn\u001b[39;00m \u001b[43mfunc\u001b[49m\u001b[43m(\u001b[49m\u001b[38;5;241;43m*\u001b[39;49m\u001b[43margs\u001b[49m\u001b[43m,\u001b[49m\u001b[43m \u001b[49m\u001b[38;5;241;43m*\u001b[39;49m\u001b[38;5;241;43m*\u001b[39;49m\u001b[43mkw\u001b[49m\u001b[43m)\u001b[49m\n\u001b[1;32m    728\u001b[0m     new_args \u001b[38;5;241m=\u001b[39m []\n\u001b[1;32m    729\u001b[0m     need_cast \u001b[38;5;241m=\u001b[39m \u001b[38;5;28;01mFalse\u001b[39;00m\n",
      "File \u001b[0;32m~/miniconda3/envs/pyt/lib/python3.10/site-packages/jittor/nn.py:778\u001b[0m, in \u001b[0;36mLayerNorm.execute\u001b[0;34m(self, x)\u001b[0m\n\u001b[1;32m    776\u001b[0m w \u001b[38;5;241m=\u001b[39m \u001b[38;5;28mself\u001b[39m\u001b[38;5;241m.\u001b[39mweight \u001b[38;5;241m/\u001b[39m jt\u001b[38;5;241m.\u001b[39msqrt(xvar\u001b[38;5;241m+\u001b[39m\u001b[38;5;28mself\u001b[39m\u001b[38;5;241m.\u001b[39meps)\n\u001b[1;32m    777\u001b[0m b \u001b[38;5;241m=\u001b[39m \u001b[38;5;28mself\u001b[39m\u001b[38;5;241m.\u001b[39mbias \u001b[38;5;241m-\u001b[39m xmean \u001b[38;5;241m*\u001b[39m w\n\u001b[0;32m--> 778\u001b[0m \u001b[38;5;28;01mreturn\u001b[39;00m \u001b[43mx\u001b[49m\u001b[43m \u001b[49m\u001b[38;5;241;43m*\u001b[39;49m\u001b[43m \u001b[49m\u001b[43mw\u001b[49m \u001b[38;5;241m+\u001b[39m b\n",
      "\u001b[0;31mRuntimeError\u001b[0m: \u001b[38;5;1m[f 0620 18:34:40.899498 36 executor.cc:686] \nExecute fused operator(2/41784) failed. \n[JIT Source]: /root/.cache/jittor/jt1.3.8/g++9.4.0/py3.10.11/Linux-5.4.0-16xfa/IntelRXeonRPlax40/default/cu11.7.99_sm_75/jit/__opkey0_broadcast_to__Tx_float32__DIM_7__BCAST_19__opkey1_reindex__Tx_float32__XDIM_4__YD___hash_763ba871e4286cdb_op.cc \n[OP TYPE]: fused_op:( broadcast_to, reindex, binary.multiply, reduce.add,)\n[Input]: float32[768,3,32,32,]visual.conv1.weight, float32[1,3,224,224,], \n[Output]: float32[1,768,7,7,], \n[Async Backtrace]: not found, please set env JT_SYNC=1, trace_py_var=3 \n[Reason]: \u001b[38;5;1m[f 0620 18:34:40.893989 36 helper_cuda.h:128] CUDA error at /root/.cache/jittor/jt1.3.8/g++9.4.0/py3.10.11/Linux-5.4.0-16xfa/IntelRXeonRPlax40/default/cu11.7.99_sm_75/jit/cudnn_conv__Tx_float32__Ty_float32__Tw_float32__XFORMAT_abcd__WFORMAT_oihw__YFORMAT_abcd_____hash_4d5b3e2d24c769d3_op.cc:351  code=4( CUDNN_STATUS_INTERNAL_ERROR ) cudnnFindConvolutionForwardAlgorithmEx( handle_, cudnnIdesc, x->ptr<Tx>(), cudnnFdesc, w->ptr<Tw>(), cudnnConvDesc, cudnnOdesc, y->ptr<Ty>(), num_algos, &perf_count, perf_results, ws, max_ws_size)\u001b[m\u001b[m\n**********\nAsync error was detected. To locate the async backtrace and get better error report, please rerun your code with two enviroment variables set:\n>>> export JT_SYNC=1\n>>> export trace_py_var=3\n"
     ]
    }
   ],
   "source": [
    "# calculate image features of training data\n",
    "train_features = []\n",
    "print('Training data processing:')\n",
    "with jt.no_grad():\n",
    "    for img in tqdm(new_train_imgs):\n",
    "        img = os.path.join(imgs_dir, img)\n",
    "        image = Image.open(img)\n",
    "        image = preprocess(image).unsqueeze(0)\n",
    "        image_features = model.encode_image(image)\n",
    "        # print(\"能成功运行?\",\"image_features的shape是\",image_features.shape)\n",
    "        image_features /= image_features.norm(dim=-1, keepdim=True)\n",
    "        train_features.append(image_features)\n",
    "\n",
    "train_features = jt.cat(train_features).numpy()#(1496, 512)\n",
    "train_labels = jt.cat(new_train_labels).numpy()#(1496,)"
   ]
  },
  {
   "cell_type": "code",
   "execution_count": null,
   "metadata": {},
   "outputs": [],
   "source": [
    "# training\n",
    "classifier = LogisticRegression(random_state=0,\n",
    "                                C=8.960,\n",
    "                                max_iter=30000,\n",
    "                                verbose=1)\n",
    "classifier.fit(train_features, train_labels)"
   ]
  },
  {
   "cell_type": "markdown",
   "metadata": {},
   "source": [
    "## 比赛要提交的测试"
   ]
  },
  {
   "cell_type": "code",
   "execution_count": null,
   "metadata": {},
   "outputs": [],
   "source": [
    "# testing dataset loading\n",
    "split = 'TestSet' + args.split\n",
    "imgs_dir = '../data/' + split\n",
    "test_imgs = os.listdir(imgs_dir)"
   ]
  },
  {
   "cell_type": "code",
   "execution_count": null,
   "metadata": {
    "notebookRunGroups": {
     "groupValue": "1"
    }
   },
   "outputs": [],
   "source": [
    "print('Testing data processing:')\n",
    "test_features = []\n",
    "with jt.no_grad():\n",
    "    for img in tqdm(test_imgs):\n",
    "        img_path = os.path.join(imgs_dir, img)\n",
    "        image = Image.open(img_path)\n",
    "        image = preprocess(image).unsqueeze(0)\n",
    "        image_features = model.encode_image(image)\n",
    "        image_features /= image_features.norm(dim=-1, keepdim=True)\n",
    "        test_features.append(image_features)\n",
    "\n",
    "test_features = jt.cat(test_features).numpy()"
   ]
  },
  {
   "cell_type": "code",
   "execution_count": null,
   "metadata": {},
   "outputs": [],
   "source": [
    "# testing\n",
    "with open('result_ft.txt', 'w') as save_file:\n",
    "    i = 0\n",
    "    predictions = classifier.predict_proba(test_features)\n",
    "    for prediction in predictions.tolist():\n",
    "        prediction = np.asarray(prediction)\n",
    "        top5_idx = prediction.argsort()[-1:-6:-1]\n",
    "        save_file.write(test_imgs[i] + ' ' +\n",
    "                        ' '.join(str(idx) for idx in top5_idx) + '\\n')\n",
    "        i += 1"
   ]
  },
  {
   "cell_type": "code",
   "execution_count": null,
   "metadata": {},
   "outputs": [],
   "source": []
  }
 ],
 "metadata": {
  "kernelspec": {
   "display_name": "pyt",
   "language": "python",
   "name": "python3"
  },
  "language_info": {
   "codemirror_mode": {
    "name": "ipython",
    "version": 3
   },
   "file_extension": ".py",
   "mimetype": "text/x-python",
   "name": "python",
   "nbconvert_exporter": "python",
   "pygments_lexer": "ipython3",
   "version": "3.10.11"
  }
 },
 "nbformat": 4,
 "nbformat_minor": 2
}
