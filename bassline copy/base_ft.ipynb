{
 "cells": [
  {
   "cell_type": "code",
   "execution_count": 1,
   "metadata": {},
   "outputs": [],
   "source": [
    "# %pip install ftfy regex tqdm\n",
    "# %pip install colorama"
   ]
  },
  {
   "cell_type": "code",
   "execution_count": 2,
   "metadata": {},
   "outputs": [
    {
     "name": "stderr",
     "output_type": "stream",
     "text": [
      "\u001b[38;5;2m[i 0614 18:11:35.367531 16 log.cc:351] Load log_sync: 1\u001b[m\n",
      "\u001b[38;5;2m[i 0614 18:11:35.429343 16 compiler.py:956] Jittor(1.3.8.5) src: /root/miniconda3/envs/pyt/lib/python3.10/site-packages/jittor\u001b[m\n",
      "\u001b[38;5;2m[i 0614 18:11:35.432729 16 compiler.py:957] g++ at /usr/bin/g++(9.4.0)\u001b[m\n",
      "\u001b[38;5;2m[i 0614 18:11:35.433511 16 compiler.py:958] cache_path: /root/.cache/jittor/jt1.3.8/g++9.4.0/py3.10.11/Linux-5.4.0-16xf1/IntelRXeonRPlax40/default\u001b[m\n",
      "\u001b[38;5;2m[i 0614 18:11:35.437135 16 __init__.py:411] Found /usr/local/cuda/bin/nvcc(11.7.99) at /usr/local/cuda/bin/nvcc.\u001b[m\n",
      "\u001b[38;5;2m[i 0614 18:11:35.440178 16 __init__.py:411] Found addr2line(2.34) at /usr/bin/addr2line.\u001b[m\n"
     ]
    },
    {
     "name": "stderr",
     "output_type": "stream",
     "text": [
      "\u001b[38;5;2m[i 0614 18:11:35.553101 16 compiler.py:1011] cuda key:cu11.7.99_sm_75\u001b[m\n",
      "\u001b[38;5;2m[i 0614 18:11:35.897398 16 __init__.py:227] Total mem: 30.60GB, using 10 procs for compiling.\u001b[m\n",
      "\u001b[38;5;2m[i 0614 18:11:36.043001 16 jit_compiler.cc:28] Load cc_path: /usr/bin/g++\u001b[m\n",
      "\u001b[38;5;2m[i 0614 18:11:36.269060 16 init.cc:62] Found cuda archs: [75,]\u001b[m\n",
      "\u001b[38;5;2m[i 0614 18:11:39.370891 16 cuda_flags.cc:49] CUDA enabled.\u001b[m\n"
     ]
    },
    {
     "name": "stdout",
     "output_type": "stream",
     "text": [
      "包导入成功\n"
     ]
    }
   ],
   "source": [
    "import jittor as jt\n",
    "from PIL import Image\n",
    "import jclip as clip\n",
    "import os\n",
    "from tqdm import tqdm\n",
    "import argparse\n",
    "from sklearn.linear_model import LogisticRegression\n",
    "import numpy as np\n",
    "# from colorama import Fore, Back, Style, init\n",
    "# init()\n",
    "\n",
    "jt.flags.use_cuda = 1\n",
    "print(\"包导入成功\")"
   ]
  },
  {
   "cell_type": "code",
   "execution_count": 3,
   "metadata": {},
   "outputs": [],
   "source": [
    "parser = argparse.ArgumentParser()\n",
    "parser.add_argument('--split', type=str, default='A')\n",
    "\n",
    "# args = parser.parse_args()\n",
    "args, unknown = parser.parse_known_args()\n",
    "model, preprocess = clip.load(\"ViT-B-32.pkl\")\n",
    "classes = open('../data/classname.txt').read().splitlines()#这是一个包含所有类的列表"
   ]
  },
  {
   "cell_type": "markdown",
   "metadata": {},
   "source": [
    "## 类别文本编码,变成一句话,然后别转为向量\n",
    "### 提示词可以尝试优化\n",
    "text_features的shape为[374,512,]"
   ]
  },
  {
   "cell_type": "code",
   "execution_count": 4,
   "metadata": {},
   "outputs": [],
   "source": [
    "# encode这块后面可以强化下\n",
    "new_classes = []\n",
    "for c in classes:\n",
    "    c = c.split(' ')[0]\n",
    "    if c.startswith('Animal'):\n",
    "        c = c[7:]\n",
    "    if c.startswith('Thu-dog'):\n",
    "        c = c[8:]\n",
    "    if c.startswith('Caltech-101'):\n",
    "        c = c[12:]\n",
    "    if c.startswith('Food-101'):\n",
    "        c = c[9:]\n",
    "    c = 'a photo of ' + c\n",
    "    new_classes.append(c)\n",
    "    text = clip.tokenize(new_classes)\n",
    "text_features = model.encode_text(text)\n",
    "text_features /= text_features.norm(dim=-1, keepdim=True)\n",
    "# print(Back.YELLOW +\"标签处理成功\")"
   ]
  },
  {
   "cell_type": "markdown",
   "metadata": {},
   "source": [
    "## 图片加载并处理"
   ]
  },
  {
   "cell_type": "code",
   "execution_count": 5,
   "metadata": {},
   "outputs": [
    {
     "name": "stderr",
     "output_type": "stream",
     "text": [
      "\u001b[38;5;2m[i 0614 18:11:48.567942 16 cuda_device_allocator.cc:30] \n",
      "=== display_memory_info ===\n",
      " total_cpu_ram:  30.6GB total_device_ram: 14.58GB\n",
      " hold_vars: 49212 lived_vars: 99467 lived_ops: 100000\n",
      " name: sfrl is_device: 1 used: 11.37GB(93%) unused: 872.7MB(6.97%) total: 12.23GB\n",
      " name: sfrl is_device: 1 used: 579.8MB(91.6%) unused: 53.24MB(8.41%) total:   633MB\n",
      " name: sfrl is_device: 0 used: 579.8MB(91.6%) unused: 53.24MB(8.41%) total:   633MB\n",
      " name: sfrl is_device: 0 used: 23.91MB(99.6%) unused:    88KB(0.358%) total:    24MB\n",
      " name: sfrl is_device: 0 used:     0 B(-nan%) unused:     0 B(-nan%) total:     0 B\n",
      " name: temp is_device: 0 used:     0 B(-nan%) unused:     0 B(-nan%) total:     0 B\n",
      " name: temp is_device: 1 used:     0 B(-nan%) unused:     0 B(-nan%) total:     0 B\n",
      " cpu&gpu: 13.49GB gpu: 12.84GB cpu:   657MB\n",
      " free: cpu(20.62GB) gpu(15.38MB)\n",
      " swap: total(    0 B) last(    0 B)\n",
      "===========================\n",
      "\u001b[m\n",
      "\u001b[38;5;2m[i 0614 18:11:49.196216 16 cuda_device_allocator.cc:30] \n",
      "=== display_memory_info ===\n",
      " total_cpu_ram:  30.6GB total_device_ram: 14.58GB\n",
      " hold_vars: 49212 lived_vars: 99467 lived_ops: 100000\n",
      " name: sfrl is_device: 1 used: 11.37GB(93.2%) unused: 852.7MB(6.82%) total: 12.21GB\n",
      " name: sfrl is_device: 1 used: 579.8MB(91.6%) unused: 53.24MB(8.41%) total:   633MB\n",
      " name: sfrl is_device: 0 used: 579.8MB(91.6%) unused: 53.24MB(8.41%) total:   633MB\n",
      " name: sfrl is_device: 0 used: 23.91MB(99.6%) unused:    88KB(0.358%) total:    24MB\n",
      " name: sfrl is_device: 0 used:     0 B(-nan%) unused:     0 B(-nan%) total:     0 B\n",
      " name: temp is_device: 0 used:     0 B(-nan%) unused:     0 B(-nan%) total:     0 B\n",
      " name: temp is_device: 1 used:     0 B(-nan%) unused:     0 B(-nan%) total:     0 B\n",
      " cpu&gpu: 13.47GB gpu: 12.83GB cpu:   657MB\n",
      " free: cpu(20.62GB) gpu(35.38MB)\n",
      " swap: total(    0 B) last(    0 B)\n",
      "===========================\n",
      "\u001b[m\n"
     ]
    },
    {
     "ename": "RuntimeError",
     "evalue": "\u001b[38;5;1m[f 0614 18:11:49.197200 16 executor.cc:686] \nExecute fused operator(1383/99182) failed. \n[JIT Source]: /root/.cache/jittor/jt1.3.8/g++9.4.0/py3.10.11/Linux-5.4.0-16xf1/IntelRXeonRPlax40/default/cu11.7.99_sm_75/jit/code__IN_SIZE_1__in0_dim_4__in0_type_float32__OUT_SIZE_1__out0_dim_4__out0_type_float32__H___hash_9ea216850b079559_op.cc \n[OP TYPE]: code \n[Input]: float32[374,8,77,77,], \n[Output]: float32[374,8,77,77,], \n[Async Backtrace]: not found, please set env JT_SYNC=1, trace_py_var=3 \n[Reason]: \u001b[38;5;1m[f 0614 18:11:49.197092 16 cuda_device_allocator.cc:31] Unable to alloc cuda device memory for size 71303168\u001b[m\u001b[m\n**********\nAsync error was detected. To locate the async backtrace and get better error report, please rerun your code with two enviroment variables set:\n>>> export JT_SYNC=1\n>>> export trace_py_var=3\n",
     "output_type": "error",
     "traceback": [
      "\u001b[0;31m---------------------------------------------------------------------------\u001b[0m",
      "\u001b[0;31mRuntimeError\u001b[0m                              Traceback (most recent call last)",
      "Cell \u001b[0;32mIn[5], line 5\u001b[0m\n\u001b[1;32m      3\u001b[0m train_labels \u001b[38;5;241m=\u001b[39m \u001b[38;5;28mopen\u001b[39m(\u001b[38;5;124m'\u001b[39m\u001b[38;5;124m../data/train.txt\u001b[39m\u001b[38;5;124m'\u001b[39m)\u001b[38;5;241m.\u001b[39mread()\u001b[38;5;241m.\u001b[39msplitlines()\n\u001b[1;32m      4\u001b[0m train_imgs \u001b[38;5;241m=\u001b[39m [l\u001b[38;5;241m.\u001b[39msplit(\u001b[38;5;124m'\u001b[39m\u001b[38;5;124m \u001b[39m\u001b[38;5;124m'\u001b[39m)[\u001b[38;5;241m0\u001b[39m] \u001b[38;5;28;01mfor\u001b[39;00m l \u001b[38;5;129;01min\u001b[39;00m train_labels]\u001b[38;5;66;03m#对应的图片path\u001b[39;00m\n\u001b[0;32m----> 5\u001b[0m train_labels \u001b[38;5;241m=\u001b[39m [jt\u001b[38;5;241m.\u001b[39mfloat32([\u001b[38;5;28mint\u001b[39m(l\u001b[38;5;241m.\u001b[39msplit(\u001b[38;5;124m'\u001b[39m\u001b[38;5;124m \u001b[39m\u001b[38;5;124m'\u001b[39m)[\u001b[38;5;241m1\u001b[39m])]) \u001b[38;5;28;01mfor\u001b[39;00m l \u001b[38;5;129;01min\u001b[39;00m train_labels]\n",
      "Cell \u001b[0;32mIn[5], line 5\u001b[0m, in \u001b[0;36m<listcomp>\u001b[0;34m(.0)\u001b[0m\n\u001b[1;32m      3\u001b[0m train_labels \u001b[38;5;241m=\u001b[39m \u001b[38;5;28mopen\u001b[39m(\u001b[38;5;124m'\u001b[39m\u001b[38;5;124m../data/train.txt\u001b[39m\u001b[38;5;124m'\u001b[39m)\u001b[38;5;241m.\u001b[39mread()\u001b[38;5;241m.\u001b[39msplitlines()\n\u001b[1;32m      4\u001b[0m train_imgs \u001b[38;5;241m=\u001b[39m [l\u001b[38;5;241m.\u001b[39msplit(\u001b[38;5;124m'\u001b[39m\u001b[38;5;124m \u001b[39m\u001b[38;5;124m'\u001b[39m)[\u001b[38;5;241m0\u001b[39m] \u001b[38;5;28;01mfor\u001b[39;00m l \u001b[38;5;129;01min\u001b[39;00m train_labels]\u001b[38;5;66;03m#对应的图片path\u001b[39;00m\n\u001b[0;32m----> 5\u001b[0m train_labels \u001b[38;5;241m=\u001b[39m [\u001b[43mjt\u001b[49m\u001b[38;5;241;43m.\u001b[39;49m\u001b[43mfloat32\u001b[49m\u001b[43m(\u001b[49m\u001b[43m[\u001b[49m\u001b[38;5;28;43mint\u001b[39;49m\u001b[43m(\u001b[49m\u001b[43ml\u001b[49m\u001b[38;5;241;43m.\u001b[39;49m\u001b[43msplit\u001b[49m\u001b[43m(\u001b[49m\u001b[38;5;124;43m'\u001b[39;49m\u001b[38;5;124;43m \u001b[39;49m\u001b[38;5;124;43m'\u001b[39;49m\u001b[43m)\u001b[49m\u001b[43m[\u001b[49m\u001b[38;5;241;43m1\u001b[39;49m\u001b[43m]\u001b[49m\u001b[43m)\u001b[49m\u001b[43m]\u001b[49m\u001b[43m)\u001b[49m \u001b[38;5;28;01mfor\u001b[39;00m l \u001b[38;5;129;01min\u001b[39;00m train_labels]\n",
      "\u001b[0;31mRuntimeError\u001b[0m: \u001b[38;5;1m[f 0614 18:11:49.197200 16 executor.cc:686] \nExecute fused operator(1383/99182) failed. \n[JIT Source]: /root/.cache/jittor/jt1.3.8/g++9.4.0/py3.10.11/Linux-5.4.0-16xf1/IntelRXeonRPlax40/default/cu11.7.99_sm_75/jit/code__IN_SIZE_1__in0_dim_4__in0_type_float32__OUT_SIZE_1__out0_dim_4__out0_type_float32__H___hash_9ea216850b079559_op.cc \n[OP TYPE]: code \n[Input]: float32[374,8,77,77,], \n[Output]: float32[374,8,77,77,], \n[Async Backtrace]: not found, please set env JT_SYNC=1, trace_py_var=3 \n[Reason]: \u001b[38;5;1m[f 0614 18:11:49.197092 16 cuda_device_allocator.cc:31] Unable to alloc cuda device memory for size 71303168\u001b[m\u001b[m\n**********\nAsync error was detected. To locate the async backtrace and get better error report, please rerun your code with two enviroment variables set:\n>>> export JT_SYNC=1\n>>> export trace_py_var=3\n"
     ]
    }
   ],
   "source": [
    "# training data loading\n",
    "imgs_dir = '../data'\n",
    "train_labels = open('../data/train.txt').read().splitlines()\n",
    "train_imgs = [l.split(' ')[0] for l in train_labels]#对应的图片path\n",
    "train_labels = [jt.float32([int(l.split(' ')[1])]) for l in train_labels]#对应的种类序号"
   ]
  },
  {
   "cell_type": "code",
   "execution_count": null,
   "metadata": {},
   "outputs": [],
   "source": [
    "# 每个类挑四张图，根据train_labels中的label来挑选\n",
    "#挑选每种的前四张,生成两个对应的列表,分别存储path和类别信息\n",
    "cnt = {}\n",
    "new_train_imgs = []\n",
    "new_train_labels = []\n",
    "for i in range(len(train_imgs)):\n",
    "    label = int(train_labels[i].numpy())\n",
    "    if label not in cnt:\n",
    "        cnt[label] = 0\n",
    "    if cnt[label] < 4:\n",
    "        new_train_imgs.append(train_imgs[i])\n",
    "        new_train_labels.append(train_labels[i])\n",
    "        cnt[label] += 1"
   ]
  },
  {
   "cell_type": "code",
   "execution_count": null,
   "metadata": {},
   "outputs": [],
   "source": [
    "# calculate image features of training data\n",
    "train_features = []\n",
    "print('Training data processing:')\n",
    "with jt.no_grad():\n",
    "    for img in tqdm(new_train_imgs):\n",
    "        img = os.path.join(imgs_dir, img)\n",
    "        image = Image.open(img)\n",
    "        image = preprocess(image).unsqueeze(0)\n",
    "        image_features = model.encode_image(image)\n",
    "        print(\"能成功运行?\",\"image_features的shape是\",image_features.shape)\n",
    "        image_features /= image_features.norm(dim=-1, keepdim=True)\n",
    "        train_features.append(image_features)\n",
    "\n",
    "train_features = jt.cat(train_features).numpy()\n",
    "train_labels = jt.cat(new_train_labels).numpy()"
   ]
  },
  {
   "cell_type": "code",
   "execution_count": null,
   "metadata": {},
   "outputs": [],
   "source": [
    "train_features[0]"
   ]
  },
  {
   "cell_type": "code",
   "execution_count": null,
   "metadata": {},
   "outputs": [],
   "source": []
  }
 ],
 "metadata": {
  "kernelspec": {
   "display_name": "pyt",
   "language": "python",
   "name": "python3"
  },
  "language_info": {
   "codemirror_mode": {
    "name": "ipython",
    "version": 3
   },
   "file_extension": ".py",
   "mimetype": "text/x-python",
   "name": "python",
   "nbconvert_exporter": "python",
   "pygments_lexer": "ipython3",
   "version": "3.10.11"
  }
 },
 "nbformat": 4,
 "nbformat_minor": 2
}
