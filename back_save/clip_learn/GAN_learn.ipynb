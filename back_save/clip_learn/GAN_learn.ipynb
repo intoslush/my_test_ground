{
 "cells": [
  {
   "cell_type": "code",
   "execution_count": 45,
   "metadata": {},
   "outputs": [],
   "source": [
    "import torch\n",
    "import torch.nn as nn\n",
    "import torchvision\n",
    "from torch.utils import data\n",
    "import numpy as np\n",
    "# import jittor"
   ]
  },
  {
   "cell_type": "code",
   "execution_count": 46,
   "metadata": {},
   "outputs": [
    {
     "name": "stdout",
     "output_type": "stream",
     "text": [
      "数据长度为: 60000\n",
      "torch.Size([1, 28, 28])\n",
      "torch.Size([1, 28, 28])\n",
      "torch.Size([1, 28, 28])\n",
      "torch.Size([1, 28, 28])\n",
      "torch.Size([1, 28, 28])\n",
      "torch.Size([1, 28, 28])\n"
     ]
    }
   ],
   "source": [
    "#导入数据并且进行修改\n",
    "dataset=torchvision.datasets.MNIST(\"mnist_data\",train=True,download=True,\n",
    "                                   transform=torchvision.transforms.Compose([\n",
    "                                       torchvision.transforms.Resize(28),\n",
    "                                       torchvision.transforms.ToTensor(),\n",
    "                                       torchvision.transforms.Normalize(mean=[0.5],std=[0.5])]))\n",
    "print(\"数据长度为:\",len(dataset))\n",
    "for i in range(6):\n",
    "    print(dataset[i][0].shape)#0是样本的(通道,h,w),1是样本标签\n"
   ]
  },
  {
   "cell_type": "code",
   "execution_count": 47,
   "metadata": {},
   "outputs": [],
   "source": [
    "image_size=[1,28,28]\n",
    "latent_dim = 96"
   ]
  },
  {
   "cell_type": "code",
   "execution_count": 48,
   "metadata": {},
   "outputs": [],
   "source": [
    "class Generator(nn.Module):\n",
    "    def __init__(self) -> None:\n",
    "        super(Generator,self).__init__()\n",
    "        self.model=nn.Sequential(\n",
    "            nn.Linear(latent_dim ,64),\n",
    "            nn.ReLU(inplace=True),\n",
    "            nn.Linear(64,128),\n",
    "            nn.ReLU(inplace=True),\n",
    "            nn.Linear(128,256),\n",
    "            nn.ReLU(inplace=True),\n",
    "            nn.Linear(256,512),\n",
    "            nn.ReLU(inplace=True),\n",
    "            nn.Linear(512,1024),\n",
    "            nn.ReLU(inplace=True),\n",
    "            nn.Linear(1024,np.prod(image_size, dtype=np.int32)),\n",
    "            nn.Tanh()\n",
    "        )\n",
    "    \n",
    "\n",
    "    def forward(self,z):\n",
    "        #shape of z,[batchsize,1*28*28],随机生成的高斯噪声,维度可以是任意的\n",
    "        output=self.model(z)\n",
    "        img=output.reshape(z.shape[0],*image_size)\n",
    "        return img\n",
    "        \n",
    "    pass"
   ]
  },
  {
   "cell_type": "code",
   "execution_count": 49,
   "metadata": {},
   "outputs": [
    {
     "data": {
      "text/plain": [
       "tensor(784, dtype=torch.int32)"
      ]
     },
     "execution_count": 49,
     "metadata": {},
     "output_type": "execute_result"
    }
   ],
   "source": [
    "torch.prod(torch.tensor(image_size),dtype=torch.int32)"
   ]
  },
  {
   "cell_type": "code",
   "execution_count": 50,
   "metadata": {},
   "outputs": [],
   "source": [
    "class Discriminator(nn.Module):\n",
    "    def __init__(self) -> None:\n",
    "        super(Discriminator,self).__init__()\n",
    "        self.model=nn.Sequential(\n",
    "            nn.Linear(np.prod(image_size, dtype=np.int32),1024),\n",
    "            nn.ReLU(inplace=True),\n",
    "            nn.Linear(1024,512),\n",
    "            nn.ReLU(inplace=True),\n",
    "            nn.Linear(512,256),\n",
    "            nn.ReLU(inplace=True),\n",
    "            nn.Linear(256,128),\n",
    "            nn.ReLU(inplace=True),\n",
    "            nn.Linear(128,1),\n",
    "            nn.Sigmoid()\n",
    "        )\n",
    "    \n",
    "    def forward(self,img):\n",
    "        #shape of img,[batchsize,1,28,28],随机生成的高斯噪声\n",
    "        p=self.model(img.reshape(img.shape[0],-1))\n",
    "        return p\n"
   ]
  },
  {
   "cell_type": "code",
   "execution_count": 51,
   "metadata": {},
   "outputs": [],
   "source": [
    "#Tranining\n",
    "batchsize=32\n",
    "dataloader=data.DataLoader(dataset,batch_size=batchsize,shuffle=True)\n",
    "generator=Generator()\n",
    "g_optimizer=torch.optim.Adam(generator.parameters(),lr=0.0001)\n",
    "discriminator=Discriminator()\n",
    "d_optimizer=torch.optim.Adam(discriminator.parameters(),lr=0.0001)\n",
    "loss=nn.BCELoss()"
   ]
  },
  {
   "cell_type": "code",
   "execution_count": 57,
   "metadata": {},
   "outputs": [
    {
     "name": "stdout",
     "output_type": "stream",
     "text": [
      "第1轮训练!\n",
      "第2轮训练!\n",
      "第3轮训练!\n",
      "第4轮训练!\n",
      "第5轮训练!\n",
      "第6轮训练!\n",
      "第7轮训练!\n",
      "第8轮训练!\n",
      "第9轮训练!\n",
      "第10轮训练!\n"
     ]
    }
   ],
   "source": [
    "num_epoch=10\n",
    "latent_dim=96\n",
    "i=0\n",
    "for epoch in range(num_epoch):\n",
    "    print(f\"第{epoch+1}轮训练!\")\n",
    "    \n",
    "    for index,minibatch in enumerate(dataloader):\n",
    "        #生成器优化\n",
    "        i=index\n",
    "        true_image,_=minibatch\n",
    "        z=torch.randn(batchsize,latent_dim)\n",
    "        pre_img=generator(z)\n",
    "        g_optimizer.zero_grad()\n",
    "        g_loss=loss(discriminator(pre_img),torch.ones(batchsize,1))\n",
    "        g_loss.backward()\n",
    "        g_optimizer.step()\n",
    "\n",
    "        #判别器优化\n",
    "        d_optimizer.zero_grad()\n",
    "        # d_loss=0.5*(loss(discriminator(true_image),torch.ones(batchsize,1))+loss(discriminator(pre_img.detach()),torch.zeros(batchsize,1)))\n",
    "        real_loss=loss(discriminator(true_image),torch.ones(batchsize,1))\n",
    "        fake_loss=loss(discriminator(pre_img.detach()),torch.zeros(batchsize,1))\n",
    "        d_loss=real_loss*0.5+fake_loss*0.5\n",
    "        d_loss.backward()\n",
    "        d_optimizer.step()\n",
    "        # if i % 50 == 0:\n",
    "            # print(f\"step:{len(dataloader)*epoch+i}, g_loss:{g_loss.item()}, d_loss:{d_loss.item()}, real_loss:{real_loss.item()}, fake_loss:{fake_loss.item()}\")\n",
    "\n",
    "        if index%10000==0:\n",
    "            for index,img in enumerate(pre_img):\n",
    "                torchvision.utils.save_image(img,f\"img/img_{index}_{epoch}.png\")\n",
    "        # break\n",
    "    # break\n",
    "\n",
    "\n"
   ]
  },
  {
   "cell_type": "code",
   "execution_count": null,
   "metadata": {},
   "outputs": [],
   "source": []
  }
 ],
 "metadata": {
  "kernelspec": {
   "display_name": "base",
   "language": "python",
   "name": "python3"
  },
  "language_info": {
   "codemirror_mode": {
    "name": "ipython",
    "version": 3
   },
   "file_extension": ".py",
   "mimetype": "text/x-python",
   "name": "python",
   "nbconvert_exporter": "python",
   "pygments_lexer": "ipython3",
   "version": "3.10.11"
  }
 },
 "nbformat": 4,
 "nbformat_minor": 2
}
