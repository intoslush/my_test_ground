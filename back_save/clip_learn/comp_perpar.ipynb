{
 "cells": [
  {
   "cell_type": "code",
   "execution_count": null,
   "metadata": {},
   "outputs": [],
   "source": [
    "# %pip install jittor\n",
    "import jittor as jt\n",
    "from jittor import init\n",
    "# import torch\n",
    "import argparse\n",
    "import os\n",
    "import numpy as np\n",
    "import math\n",
    "from jittor import nn\n",
    "from PIL import Image\n",
    "if jt.has_cuda:\n",
    "    jt.flags.use_cuda = 1\n"
   ]
  },
  {
   "cell_type": "markdown",
   "metadata": {},
   "source": [
    "## 超参数管理"
   ]
  },
  {
   "cell_type": "code",
   "execution_count": null,
   "metadata": {},
   "outputs": [],
   "source": [
    "\n",
    "parser = argparse.ArgumentParser()\n",
    "parser.add_argument('--n_epochs', type=int, default=100, help='number of epochs of training')\n",
    "parser.add_argument('--batch_size', type=int, default=64, help='size of the batches')\n",
    "parser.add_argument('--lr', type=float, default=0.0002, help='adam: learning rate')\n",
    "parser.add_argument('--b1', type=float, default=0.5, help='adam: decay of first order momentum of gradient')\n",
    "parser.add_argument('--b2', type=float, default=0.999, help='adam: decay of first order momentum of gradient')\n",
    "parser.add_argument('--n_cpu', type=int, default=8, help='number of cpu threads to use during batch generation')\n",
    "parser.add_argument('--latent_dim', type=int, default=100, help='dimensionality of the latent space')\n",
    "parser.add_argument('--n_classes', type=int, default=10, help='number of classes for dataset')\n",
    "parser.add_argument('--img_size', type=int, default=32, help='size of each image dimension')\n",
    "parser.add_argument('--channels', type=int, default=1, help='number of image channels')\n",
    "parser.add_argument('--sample_interval', type=int, default=1000, help='interval between image sampling')\n",
    "opt, unknown = parser.parse_known_args()\n",
    "print(opt)\n",
    "img_shape = (opt.channels, opt.img_size, opt.img_size)"
   ]
  },
  {
   "cell_type": "markdown",
   "metadata": {},
   "source": [
    "## 导入数据,并制作dataloader"
   ]
  },
  {
   "cell_type": "code",
   "execution_count": null,
   "metadata": {},
   "outputs": [],
   "source": [
    "from jittor.dataset.mnist import MNIST\n",
    "import jittor.transform as transform\n",
    "transform = transform.Compose([\n",
    "    transform.Resize(opt.img_size),\n",
    "    transform.Gray(),\n",
    "    transform.ImageNormalize(mean=[0.5], std=[0.5]),\n",
    "])\n",
    "dataloader = MNIST(train=True, transform=transform).set_attrs(batch_size=opt.batch_size, shuffle=True)"
   ]
  },
  {
   "cell_type": "markdown",
   "metadata": {},
   "source": [
    "## 图片生成器"
   ]
  },
  {
   "cell_type": "code",
   "execution_count": null,
   "metadata": {},
   "outputs": [],
   "source": [
    "class Generator(nn.Module):\n",
    "    def __init__(self):\n",
    "        super(Generator, self).__init__()\n",
    "        self.label_emb = nn.Embedding(opt.n_classes, opt.n_classes)\n",
    "        # nn.Linear(in_dim, out_dim)表示全连接层\n",
    "        # in_dim：输入向量维度\n",
    "        # out_dim：输出向量维度\n",
    "        def block(in_feat, out_feat, normalize=True):\n",
    "            layers = [nn.Linear(in_feat, out_feat)]\n",
    "            if normalize:\n",
    "                layers.append(nn.BatchNorm1d(out_feat, 0.8))\n",
    "            layers.append(nn.LeakyReLU(0.2))\n",
    "            return layers\n",
    "        self.model = nn.Sequential(*block((opt.latent_dim + opt.n_classes), 128, normalize=False), \n",
    "                                   *block(128, 256), \n",
    "                                   *block(256, 512), \n",
    "                                   *block(512, 1024), \n",
    "                                   nn.Linear(1024, int(np.prod(img_shape))), \n",
    "                                   nn.Tanh())\n",
    "\n",
    "    def execute(self, noise, labels):\n",
    "        gen_input = jt.contrib.concat((self.label_emb(labels), noise), dim=1)\n",
    "        img = self.model(gen_input)\n",
    "        # 将img从1024维向量变为32*32矩阵\n",
    "        img = img.view((img.shape[0], *img_shape))\n",
    "        return img"
   ]
  },
  {
   "cell_type": "markdown",
   "metadata": {},
   "source": [
    "## 判别器\n",
    "### TODO: 将d_in输入到模型中并返回计算结果"
   ]
  },
  {
   "cell_type": "code",
   "execution_count": null,
   "metadata": {},
   "outputs": [],
   "source": [
    "class Discriminator(nn.Module):\n",
    "\n",
    "    def __init__(self):\n",
    "        super(Discriminator, self).__init__()\n",
    "        self.label_embedding = nn.Embedding(opt.n_classes, opt.n_classes)\n",
    "        self.model = nn.Sequential(nn.Linear((opt.n_classes + int(np.prod(img_shape))), 512), \n",
    "                                   nn.LeakyReLU(0.2), \n",
    "                                   nn.Linear(512, 512), \n",
    "                                   nn.Dropout(0.4), \n",
    "                                   nn.LeakyReLU(0.2), \n",
    "                                   nn.Linear(512, 512), \n",
    "                                   nn.Dropout(0.4), \n",
    "                                   nn.LeakyReLU(0.2), \n",
    "                                   # TODO: 添加最后一个线性层，最终输出为一个实数\n",
    "                                   )\n",
    "\n",
    "    def execute(self, img, labels):\n",
    "        d_in = jt.contrib.concat((img.view((img.shape[0], (- 1))), self.label_embedding(labels)), dim=1)\n",
    "        prob=self.model(d_in)\n",
    "        return prob"
   ]
  },
  {
   "cell_type": "markdown",
   "metadata": {},
   "source": [
    "## 定义优化器损失函数"
   ]
  },
  {
   "cell_type": "code",
   "execution_count": null,
   "metadata": {},
   "outputs": [],
   "source": [
    "adversarial_loss = nn.MSELoss()\n",
    "generator = Generator()\n",
    "discriminator = Discriminator()\n",
    "optimizer_G = nn.Adam(generator.parameters(), lr=opt.lr, betas=(opt.b1, opt.b2))\n",
    "optimizer_D = nn.Adam(discriminator.parameters(), lr=opt.lr, betas=(opt.b1, opt.b2))"
   ]
  },
  {
   "cell_type": "code",
   "execution_count": null,
   "metadata": {},
   "outputs": [],
   "source": [
    "## 保存图片的工具函数\n",
    "def save_image(img, path, nrow=10, padding=5):\n",
    "    N,C,W,H = img.shape\n",
    "    if (N%nrow!=0):\n",
    "        print(\"N%nrow!=0\")\n",
    "        return\n",
    "    ncol=int(N/nrow)\n",
    "    img_all = []\n",
    "    for i in range(ncol):\n",
    "        img_ = []\n",
    "        for j in range(nrow):\n",
    "            img_.append(img[i*nrow+j])\n",
    "            img_.append(np.zeros((C,W,padding)))\n",
    "        img_all.append(np.concatenate(img_, 2))\n",
    "        img_all.append(np.zeros((C,padding,img_all[0].shape[2])))\n",
    "    img = np.concatenate(img_all, 1)\n",
    "    img = np.concatenate([np.zeros((C,padding,img.shape[2])), img], 1)\n",
    "    img = np.concatenate([np.zeros((C,img.shape[1],padding)), img], 2)\n",
    "    min_=img.min()\n",
    "    max_=img.max()\n",
    "    img=(img-min_)/(max_-min_)*255\n",
    "    img=img.transpose((1,2,0))\n",
    "    if C==3:\n",
    "        img = img[:,:,::-1]\n",
    "    elif C==1:\n",
    "        img = img[:,:,0]\n",
    "    Image.fromarray(np.uint8(img)).save(path)\n",
    "\n",
    "def sample_image(n_row, batches_done):\n",
    "    # 随机采样输入并保存生成的图片\n",
    "    z = jt.array(np.random.normal(0, 1, (n_row ** 2, opt.latent_dim))).float32().stop_grad()\n",
    "    labels = jt.array(np.array([num for _ in range(n_row) for num in range(n_row)])).float32().stop_grad()\n",
    "    gen_imgs = generator(z, labels)\n",
    "    save_image(gen_imgs.numpy(), \"img/%d.png\" % batches_done, nrow=n_row)"
   ]
  },
  {
   "cell_type": "markdown",
   "metadata": {},
   "source": [
    "## 模型训练\n",
    "### TODO: 计算真实类别的损失函数&TODO: 计算虚假类别的损失函数\n"
   ]
  },
  {
   "cell_type": "code",
   "execution_count": null,
   "metadata": {},
   "outputs": [],
   "source": [
    "for epoch in range(opt.n_epochs):\n",
    "    for i, (imgs, labels) in enumerate(dataloader):\n",
    "\n",
    "        batch_size = imgs.shape[0]\n",
    "\n",
    "        # 数据标签，valid=1表示真实的图片，fake=0表示生成的图片\n",
    "        valid = jt.ones([batch_size, 1]).float32().stop_grad()\n",
    "        fake = jt.zeros([batch_size, 1]).float32().stop_grad()\n",
    "\n",
    "        # 真实图片及其类别\n",
    "        real_imgs = jt.array(imgs)\n",
    "        labels = jt.array(labels)\n",
    "\n",
    "        # -----------------\n",
    "        #  训练生成器\n",
    "        # -----------------\n",
    "\n",
    "        # 采样随机噪声和数字类别作为生成器输入\n",
    "        z = jt.array(np.random.normal(0, 1, (batch_size, opt.latent_dim))).float32()\n",
    "        gen_labels = jt.array(np.random.randint(0, opt.n_classes, batch_size)).float32()\n",
    "\n",
    "        # 生成一组图片\n",
    "        gen_imgs = generator(z, gen_labels)\n",
    "        # 损失函数衡量生成器欺骗判别器的能力，即希望判别器将生成图片分类为valid\n",
    "        validity = discriminator(gen_imgs, gen_labels)\n",
    "        g_loss = adversarial_loss(validity, valid)\n",
    "        g_loss.sync()\n",
    "        optimizer_G.step(g_loss)\n",
    "\n",
    "        # ---------------------\n",
    "        #  训练判别器\n",
    "        # ---------------------\n",
    "\n",
    "        validity_real = discriminator(real_imgs, labels)\n",
    "        d_real_loss = adversarial_loss(validity_real,valid)\n",
    "\n",
    "        validity_fake = discriminator(gen_imgs.stop_grad(), gen_labels)\n",
    "        d_fake_loss = adversarial_loss(validity_fake,fake)\n",
    "\n",
    "        # 总的判别器损失\n",
    "        d_loss = (d_real_loss + d_fake_loss) / 2\n",
    "        d_loss.sync()\n",
    "        optimizer_D.step(d_loss)\n",
    "        if i  % 800 == 0:\n",
    "            print(\n",
    "                \"[Epoch %d/%d] [Batch %d/%d] [D loss: %f] [G loss: %f]\"\n",
    "                % (epoch, opt.n_epochs, i, len(dataloader), d_loss.data, g_loss.data)\n",
    "            )\n",
    "\n",
    "        batches_done = epoch * len(dataloader) + i\n",
    "        if batches_done % opt.sample_interval == 0:\n",
    "            sample_image(n_row=10, batches_done=batches_done)\n",
    "\n",
    "    if epoch % 10 == 0:\n",
    "        generator.save(\"generator_last.pkl\")\n",
    "        discriminator.save(\"discriminator_last.pkl\")"
   ]
  },
  {
   "cell_type": "markdown",
   "metadata": {},
   "source": [
    "## 评价模式开始出图"
   ]
  },
  {
   "cell_type": "code",
   "execution_count": null,
   "metadata": {},
   "outputs": [],
   "source": [
    "generator.eval()\n",
    "discriminator.eval()\n",
    "generator.load('generator_last.pkl')\n",
    "discriminator.load('discriminator_last.pkl')\n",
    "\n",
    "number = '20580042053138'\n",
    "n_row = len(number)\n",
    "z = jt.array(np.random.normal(0, 1, (n_row, opt.latent_dim))).float32().stop_grad()\n",
    "labels = jt.array(np.array([int(number[num]) for num in range(n_row)])).float32().stop_grad()\n",
    "gen_imgs = generator(z,labels)\n",
    "\n",
    "img_array = gen_imgs.data.transpose((1,2,0,3))[0].reshape((gen_imgs.shape[2], -1))\n",
    "min_=img_array.min()\n",
    "max_=img_array.max()\n",
    "img_array=(img_array-min_)/(max_-min_)*255\n",
    "Image.fromarray(np.uint8(img_array)).save(\"result.png\")"
   ]
  },
  {
   "cell_type": "code",
   "execution_count": null,
   "metadata": {},
   "outputs": [],
   "source": []
  }
 ],
 "metadata": {
  "kernelspec": {
   "display_name": "pyt",
   "language": "python",
   "name": "python3"
  },
  "language_info": {
   "codemirror_mode": {
    "name": "ipython",
    "version": 3
   },
   "file_extension": ".py",
   "mimetype": "text/x-python",
   "name": "python",
   "nbconvert_exporter": "python",
   "pygments_lexer": "ipython3",
   "version": "3.8.19"
  }
 },
 "nbformat": 4,
 "nbformat_minor": 2
}
